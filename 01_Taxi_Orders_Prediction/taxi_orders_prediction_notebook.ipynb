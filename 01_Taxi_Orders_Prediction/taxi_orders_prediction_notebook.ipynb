{
 "cells": [
  {
   "cell_type": "markdown",
   "metadata": {},
   "source": [
    "# Taxi Orders Time Series Prediction"
   ]
  },
  {
   "cell_type": "markdown",
   "metadata": {},
   "source": [
    "# Business Problem\n",
    "\n",
    "Sweet Lift Taxi company has collected historical data on taxi orders at airports. To attract more drivers during peak hours, they need to predict the amount of taxi orders for the next hour. To do this they need an accurate machine learning model for such a prediction.\n",
    "\n",
    "The RMSE metric on the test set should not be more than 48.\n",
    "\n",
    "**Solution Steps:**\n",
    "\n",
    "1. Download the data and resample it by one hour.\n",
    "2. Analyze the data.\n",
    "3. Create new features useful in model training.\n",
    "4. Train different models with different hyperparameters. The test sample should be 10% of the initial dataset. \n",
    "5. Test the data using the test sample.\n",
    "6. Select the model with the best performance on the test dataset."
   ]
  },
  {
   "cell_type": "markdown",
   "metadata": {},
   "source": [
    "# Data description\n",
    "\n",
    "The data is stored in file `taxi.csv`. The data contains time series data from 2018 in the form of the number of taxi cab orders received every 10 minutes. The number of orders is in the '*num_orders*' column."
   ]
  },
  {
   "cell_type": "markdown",
   "metadata": {},
   "source": [
    "## Preparation"
   ]
  },
  {
   "cell_type": "markdown",
   "metadata": {},
   "source": [
    "**Importing Libraries**\n",
    "- In addition to the standard libraries, I import the ML models I will use: LinearRegression, RandomForestRegressor, GradientBoostingRegressor, and AutoReg"
   ]
  },
  {
   "cell_type": "code",
   "execution_count": 63,
   "metadata": {},
   "outputs": [],
   "source": [
    "import warnings\n",
    "\n",
    "import pandas as pd\n",
    "import numpy as np\n",
    "import matplotlib.pyplot as plt\n",
    "\n",
    "from statsmodels.tsa.seasonal import seasonal_decompose\n",
    "from statsmodels.tsa.ar_model import AutoReg, ar_select_order\n",
    "from statsmodels.tsa.stattools import adfuller\n",
    "\n",
    "from sklearn.model_selection import train_test_split, GridSearchCV\n",
    "from sklearn.linear_model import LinearRegression\n",
    "from sklearn.ensemble import GradientBoostingRegressor, RandomForestRegressor\n",
    "from sklearn.metrics import mean_squared_error"
   ]
  },
  {
   "cell_type": "code",
   "execution_count": 64,
   "metadata": {},
   "outputs": [],
   "source": [
    "warnings.simplefilter(action='ignore', category=FutureWarning)"
   ]
  },
  {
   "cell_type": "markdown",
   "metadata": {},
   "source": [
    "**Loading File as DataFrame**\n",
    "- I pass 'parse_dates' and 'index_col' to convert the date column to datetime64 and set it as the index.\n",
    "- I ensure the index (dates) are sorted by calling 'sort_index.'"
   ]
  },
  {
   "cell_type": "code",
   "execution_count": 65,
   "metadata": {},
   "outputs": [],
   "source": [
    "try:\n",
    "    df = pd.read_csv('/datasets/taxi.csv', index_col=[0], parse_dates=[0])\n",
    "except FileNotFoundError:\n",
    "    df = pd.read_csv('taxi.csv', index_col=[0], parse_dates=[0])"
   ]
  },
  {
   "cell_type": "markdown",
   "metadata": {},
   "source": [
    "**DataFrame Inspection**\n",
    "- Data is divided into equal intervals of 10 minutes."
   ]
  },
  {
   "cell_type": "code",
   "execution_count": 66,
   "metadata": {},
   "outputs": [
    {
     "data": {
      "text/html": [
       "<div>\n",
       "<style scoped>\n",
       "    .dataframe tbody tr th:only-of-type {\n",
       "        vertical-align: middle;\n",
       "    }\n",
       "\n",
       "    .dataframe tbody tr th {\n",
       "        vertical-align: top;\n",
       "    }\n",
       "\n",
       "    .dataframe thead th {\n",
       "        text-align: right;\n",
       "    }\n",
       "</style>\n",
       "<table border=\"1\" class=\"dataframe\">\n",
       "  <thead>\n",
       "    <tr style=\"text-align: right;\">\n",
       "      <th></th>\n",
       "      <th>num_orders</th>\n",
       "    </tr>\n",
       "    <tr>\n",
       "      <th>datetime</th>\n",
       "      <th></th>\n",
       "    </tr>\n",
       "  </thead>\n",
       "  <tbody>\n",
       "    <tr>\n",
       "      <th>2018-03-01 00:00:00</th>\n",
       "      <td>9</td>\n",
       "    </tr>\n",
       "    <tr>\n",
       "      <th>2018-03-01 00:10:00</th>\n",
       "      <td>14</td>\n",
       "    </tr>\n",
       "    <tr>\n",
       "      <th>2018-03-01 00:20:00</th>\n",
       "      <td>28</td>\n",
       "    </tr>\n",
       "    <tr>\n",
       "      <th>2018-03-01 00:30:00</th>\n",
       "      <td>20</td>\n",
       "    </tr>\n",
       "    <tr>\n",
       "      <th>2018-03-01 00:40:00</th>\n",
       "      <td>32</td>\n",
       "    </tr>\n",
       "    <tr>\n",
       "      <th>2018-03-01 00:50:00</th>\n",
       "      <td>21</td>\n",
       "    </tr>\n",
       "    <tr>\n",
       "      <th>2018-03-01 01:00:00</th>\n",
       "      <td>7</td>\n",
       "    </tr>\n",
       "    <tr>\n",
       "      <th>2018-03-01 01:10:00</th>\n",
       "      <td>5</td>\n",
       "    </tr>\n",
       "    <tr>\n",
       "      <th>2018-03-01 01:20:00</th>\n",
       "      <td>17</td>\n",
       "    </tr>\n",
       "    <tr>\n",
       "      <th>2018-03-01 01:30:00</th>\n",
       "      <td>12</td>\n",
       "    </tr>\n",
       "  </tbody>\n",
       "</table>\n",
       "</div>"
      ],
      "text/plain": [
       "                     num_orders\n",
       "datetime                       \n",
       "2018-03-01 00:00:00           9\n",
       "2018-03-01 00:10:00          14\n",
       "2018-03-01 00:20:00          28\n",
       "2018-03-01 00:30:00          20\n",
       "2018-03-01 00:40:00          32\n",
       "2018-03-01 00:50:00          21\n",
       "2018-03-01 01:00:00           7\n",
       "2018-03-01 01:10:00           5\n",
       "2018-03-01 01:20:00          17\n",
       "2018-03-01 01:30:00          12"
      ]
     },
     "execution_count": 66,
     "metadata": {},
     "output_type": "execute_result"
    }
   ],
   "source": [
    "df.head(10)"
   ]
  },
  {
   "cell_type": "markdown",
   "metadata": {},
   "source": [
    "**Resample Data**\n",
    "- Data from the 'num_orders' column is resampled from 10 minute intervals to 1 hour intervals. The sum of each 10 minute interval is added for the total number of orders per hour."
   ]
  },
  {
   "cell_type": "code",
   "execution_count": 67,
   "metadata": {},
   "outputs": [],
   "source": [
    "df.sort_index(inplace=True)\n",
    "df = df.resample('1H').sum()"
   ]
  },
  {
   "cell_type": "code",
   "execution_count": 68,
   "metadata": {},
   "outputs": [
    {
     "data": {
      "text/html": [
       "<div>\n",
       "<style scoped>\n",
       "    .dataframe tbody tr th:only-of-type {\n",
       "        vertical-align: middle;\n",
       "    }\n",
       "\n",
       "    .dataframe tbody tr th {\n",
       "        vertical-align: top;\n",
       "    }\n",
       "\n",
       "    .dataframe thead th {\n",
       "        text-align: right;\n",
       "    }\n",
       "</style>\n",
       "<table border=\"1\" class=\"dataframe\">\n",
       "  <thead>\n",
       "    <tr style=\"text-align: right;\">\n",
       "      <th></th>\n",
       "      <th>num_orders</th>\n",
       "    </tr>\n",
       "    <tr>\n",
       "      <th>datetime</th>\n",
       "      <th></th>\n",
       "    </tr>\n",
       "  </thead>\n",
       "  <tbody>\n",
       "    <tr>\n",
       "      <th>2018-03-01 00:00:00</th>\n",
       "      <td>124</td>\n",
       "    </tr>\n",
       "    <tr>\n",
       "      <th>2018-03-01 01:00:00</th>\n",
       "      <td>85</td>\n",
       "    </tr>\n",
       "    <tr>\n",
       "      <th>2018-03-01 02:00:00</th>\n",
       "      <td>71</td>\n",
       "    </tr>\n",
       "    <tr>\n",
       "      <th>2018-03-01 03:00:00</th>\n",
       "      <td>66</td>\n",
       "    </tr>\n",
       "    <tr>\n",
       "      <th>2018-03-01 04:00:00</th>\n",
       "      <td>43</td>\n",
       "    </tr>\n",
       "    <tr>\n",
       "      <th>2018-03-01 05:00:00</th>\n",
       "      <td>6</td>\n",
       "    </tr>\n",
       "    <tr>\n",
       "      <th>2018-03-01 06:00:00</th>\n",
       "      <td>12</td>\n",
       "    </tr>\n",
       "    <tr>\n",
       "      <th>2018-03-01 07:00:00</th>\n",
       "      <td>15</td>\n",
       "    </tr>\n",
       "    <tr>\n",
       "      <th>2018-03-01 08:00:00</th>\n",
       "      <td>34</td>\n",
       "    </tr>\n",
       "    <tr>\n",
       "      <th>2018-03-01 09:00:00</th>\n",
       "      <td>69</td>\n",
       "    </tr>\n",
       "  </tbody>\n",
       "</table>\n",
       "</div>"
      ],
      "text/plain": [
       "                     num_orders\n",
       "datetime                       \n",
       "2018-03-01 00:00:00         124\n",
       "2018-03-01 01:00:00          85\n",
       "2018-03-01 02:00:00          71\n",
       "2018-03-01 03:00:00          66\n",
       "2018-03-01 04:00:00          43\n",
       "2018-03-01 05:00:00           6\n",
       "2018-03-01 06:00:00          12\n",
       "2018-03-01 07:00:00          15\n",
       "2018-03-01 08:00:00          34\n",
       "2018-03-01 09:00:00          69"
      ]
     },
     "execution_count": 68,
     "metadata": {},
     "output_type": "execute_result"
    }
   ],
   "source": [
    "df.head(10)"
   ]
  },
  {
   "cell_type": "markdown",
   "metadata": {},
   "source": [
    "**Checking for Missing Values**\n",
    "- Duplicated values are to be expected given that some hours may have the same number of orders as other hours."
   ]
  },
  {
   "cell_type": "code",
   "execution_count": 69,
   "metadata": {},
   "outputs": [
    {
     "data": {
      "text/plain": [
       "num_orders    0\n",
       "dtype: int64"
      ]
     },
     "execution_count": 69,
     "metadata": {},
     "output_type": "execute_result"
    }
   ],
   "source": [
    "df.isna().sum()"
   ]
  },
  {
   "cell_type": "markdown",
   "metadata": {},
   "source": [
    "**Checking for Duplicated Rows**"
   ]
  },
  {
   "cell_type": "code",
   "execution_count": 70,
   "metadata": {},
   "outputs": [
    {
     "data": {
      "text/plain": [
       "4165"
      ]
     },
     "execution_count": 70,
     "metadata": {},
     "output_type": "execute_result"
    }
   ],
   "source": [
    "df.duplicated().sum()"
   ]
  },
  {
   "cell_type": "markdown",
   "metadata": {},
   "source": [
    "## Exploratory Analysis"
   ]
  },
  {
   "cell_type": "markdown",
   "metadata": {},
   "source": [
    "**Descriptive Statistics:**"
   ]
  },
  {
   "cell_type": "code",
   "execution_count": 71,
   "metadata": {},
   "outputs": [
    {
     "data": {
      "text/html": [
       "<div>\n",
       "<style scoped>\n",
       "    .dataframe tbody tr th:only-of-type {\n",
       "        vertical-align: middle;\n",
       "    }\n",
       "\n",
       "    .dataframe tbody tr th {\n",
       "        vertical-align: top;\n",
       "    }\n",
       "\n",
       "    .dataframe thead th {\n",
       "        text-align: right;\n",
       "    }\n",
       "</style>\n",
       "<table border=\"1\" class=\"dataframe\">\n",
       "  <thead>\n",
       "    <tr style=\"text-align: right;\">\n",
       "      <th></th>\n",
       "      <th>num_orders</th>\n",
       "    </tr>\n",
       "  </thead>\n",
       "  <tbody>\n",
       "    <tr>\n",
       "      <th>count</th>\n",
       "      <td>4416.000000</td>\n",
       "    </tr>\n",
       "    <tr>\n",
       "      <th>mean</th>\n",
       "      <td>84.422781</td>\n",
       "    </tr>\n",
       "    <tr>\n",
       "      <th>std</th>\n",
       "      <td>45.023853</td>\n",
       "    </tr>\n",
       "    <tr>\n",
       "      <th>min</th>\n",
       "      <td>0.000000</td>\n",
       "    </tr>\n",
       "    <tr>\n",
       "      <th>25%</th>\n",
       "      <td>54.000000</td>\n",
       "    </tr>\n",
       "    <tr>\n",
       "      <th>50%</th>\n",
       "      <td>78.000000</td>\n",
       "    </tr>\n",
       "    <tr>\n",
       "      <th>75%</th>\n",
       "      <td>107.000000</td>\n",
       "    </tr>\n",
       "    <tr>\n",
       "      <th>max</th>\n",
       "      <td>462.000000</td>\n",
       "    </tr>\n",
       "  </tbody>\n",
       "</table>\n",
       "</div>"
      ],
      "text/plain": [
       "        num_orders\n",
       "count  4416.000000\n",
       "mean     84.422781\n",
       "std      45.023853\n",
       "min       0.000000\n",
       "25%      54.000000\n",
       "50%      78.000000\n",
       "75%     107.000000\n",
       "max     462.000000"
      ]
     },
     "execution_count": 71,
     "metadata": {},
     "output_type": "execute_result"
    }
   ],
   "source": [
    "df.describe()"
   ]
  },
  {
   "cell_type": "markdown",
   "metadata": {},
   "source": [
    "- The mean orders per hour is about 84, the median is slightly below at about 78 orders per hour. \n",
    "- The time range of the data spans from 2018-03-01 to 2018-08-31, providing 6 months of taxi order data."
   ]
  },
  {
   "cell_type": "code",
   "execution_count": 72,
   "metadata": {},
   "outputs": [
    {
     "name": "stdout",
     "output_type": "stream",
     "text": [
      "Start date:  2018-03-01 00:00:00\n",
      "End date:  2018-08-31 23:00:00\n"
     ]
    }
   ],
   "source": [
    "print('Start date: ', df.index[0])\n",
    "print('End date: ', df.index[-1])"
   ]
  },
  {
   "cell_type": "markdown",
   "metadata": {},
   "source": [
    "**Visualizing the Series:**"
   ]
  },
  {
   "cell_type": "code",
   "execution_count": 73,
   "metadata": {},
   "outputs": [
    {
     "data": {
      "text/plain": [
       "<Axes: xlabel='datetime'>"
      ]
     },
     "execution_count": 73,
     "metadata": {},
     "output_type": "execute_result"
    },
    {
     "data": {
      "image/png": "[encoded data removed]",
      "text/plain": [
       "<Figure size 640x480 with 1 Axes>"
      ]
     },
     "metadata": {},
     "output_type": "display_data"
    }
   ],
   "source": [
    "df.plot()"
   ]
  },
  {
   "cell_type": "code",
   "execution_count": 74,
   "metadata": {},
   "outputs": [
    {
     "name": "stdout",
     "output_type": "stream",
     "text": [
      "p_value:  0.0289400514026128\n"
     ]
    }
   ],
   "source": [
    "stationary_test = adfuller(df, autolag='AIC')\n",
    "print('p_value: ', stationary_test[1])"
   ]
  },
  {
   "cell_type": "code",
   "execution_count": 75,
   "metadata": {},
   "outputs": [
    {
     "data": {
      "text/plain": [
       "<Axes: xlabel='datetime'>"
      ]
     },
     "execution_count": 75,
     "metadata": {},
     "output_type": "execute_result"
    },
    {
     "data": {
      "image/png": "[encoded data removed]",
      "text/plain": [
       "<Figure size 640x480 with 1 Axes>"
      ]
     },
     "metadata": {},
     "output_type": "display_data"
    }
   ],
   "source": [
    "df['rolling_mean'] = df.rolling(7).mean()\n",
    "df.dropna(inplace=True)\n",
    "df.plot()"
   ]
  },
  {
   "cell_type": "markdown",
   "metadata": {},
   "source": [
    "- Upon visual inspection, the series appears to be mostly stationary since the mean remains fairly constant. Using the adfuller test and receiving a p-value less than 0.05 confirms this. Since the series is stationary, there is no need to take the difference.\n",
    "- Plotting the original data with the rolling mean supports the result of the adfuller test. The mean remains relatively stable through the series."
   ]
  },
  {
   "cell_type": "markdown",
   "metadata": {},
   "source": [
    "**Trend and Seasonality:**"
   ]
  },
  {
   "cell_type": "code",
   "execution_count": 76,
   "metadata": {},
   "outputs": [],
   "source": [
    "df = df.drop('rolling_mean',axis=1)"
   ]
  },
  {
   "cell_type": "code",
   "execution_count": 77,
   "metadata": {},
   "outputs": [],
   "source": [
    "decomposed = seasonal_decompose(df['2018-05-01':'2018-05-31'])"
   ]
  },
  {
   "cell_type": "code",
   "execution_count": 78,
   "metadata": {},
   "outputs": [
    {
     "data": {
      "text/plain": [
       "Text(0.5, 1.0, 'Residuals')"
      ]
     },
     "execution_count": 78,
     "metadata": {},
     "output_type": "execute_result"
    },
    {
     "data": {
      "image/png": "[encoded data removed]",
      "text/plain": [
       "<Figure size 800x800 with 3 Axes>"
      ]
     },
     "metadata": {},
     "output_type": "display_data"
    }
   ],
   "source": [
    "plt.figure(figsize=(8, 8))\n",
    "\n",
    "plt.subplot(311)\n",
    "decomposed.trend.plot(ax=plt.gca())\n",
    "plt.title('Trend')\n",
    "plt.subplot(312)\n",
    "decomposed.seasonal.plot(ax=plt.gca())\n",
    "plt.title('Seasonality')\n",
    "plt.subplot(313)\n",
    "decomposed.resid.plot(ax=plt.gca())\n",
    "plt.title('Residuals')"
   ]
  },
  {
   "cell_type": "markdown",
   "metadata": {},
   "source": [
    "- To study the series in more detail, only 1 month is included in the data slice for 'seasonal_decompose'.\n",
    "- As would be expected, there is a daily seasonal cycle of orders (orders for taxi service are highest at the busiest times of day.\n",
    "- Each week there are 2-3 'humps' of upward/downward trends."
   ]
  },
  {
   "cell_type": "markdown",
   "metadata": {},
   "source": [
    "## Feature Engineering:"
   ]
  },
  {
   "cell_type": "markdown",
   "metadata": {},
   "source": [
    "- The following features are created for model training: month, day, day of week, hour, 7 lag columns, and a rolling mean column with a window of 7. \n",
    "- NaNs from the lag and rolling mean columns features are dropped."
   ]
  },
  {
   "cell_type": "code",
   "execution_count": 79,
   "metadata": {},
   "outputs": [],
   "source": [
    "def features(df, max_lag, rolling_mean_size):\n",
    "    df['month'] = df.index.month\n",
    "    df['day'] = df.index.day\n",
    "    df['dayofweek'] = df.index.dayofweek\n",
    "    df['hour'] = df.index.hour\n",
    "    \n",
    "    for i in range(1, max_lag + 1):\n",
    "        df['lag_{}'.format(i)] = df['num_orders'].shift(i)\n",
    "    \n",
    "    df['rolling_mean'] = df['num_orders'].shift().rolling(rolling_mean_size).mean()\n",
    "\n",
    "features(df, 7, 7)"
   ]
  },
  {
   "cell_type": "code",
   "execution_count": 80,
   "metadata": {},
   "outputs": [
    {
     "data": {
      "text/html": [
       "<div>\n",
       "<style scoped>\n",
       "    .dataframe tbody tr th:only-of-type {\n",
       "        vertical-align: middle;\n",
       "    }\n",
       "\n",
       "    .dataframe tbody tr th {\n",
       "        vertical-align: top;\n",
       "    }\n",
       "\n",
       "    .dataframe thead th {\n",
       "        text-align: right;\n",
       "    }\n",
       "</style>\n",
       "<table border=\"1\" class=\"dataframe\">\n",
       "  <thead>\n",
       "    <tr style=\"text-align: right;\">\n",
       "      <th></th>\n",
       "      <th>num_orders</th>\n",
       "      <th>month</th>\n",
       "      <th>day</th>\n",
       "      <th>dayofweek</th>\n",
       "      <th>hour</th>\n",
       "      <th>lag_1</th>\n",
       "      <th>lag_2</th>\n",
       "      <th>lag_3</th>\n",
       "      <th>lag_4</th>\n",
       "      <th>lag_5</th>\n",
       "      <th>lag_6</th>\n",
       "      <th>lag_7</th>\n",
       "      <th>rolling_mean</th>\n",
       "    </tr>\n",
       "    <tr>\n",
       "      <th>datetime</th>\n",
       "      <th></th>\n",
       "      <th></th>\n",
       "      <th></th>\n",
       "      <th></th>\n",
       "      <th></th>\n",
       "      <th></th>\n",
       "      <th></th>\n",
       "      <th></th>\n",
       "      <th></th>\n",
       "      <th></th>\n",
       "      <th></th>\n",
       "      <th></th>\n",
       "      <th></th>\n",
       "    </tr>\n",
       "  </thead>\n",
       "  <tbody>\n",
       "    <tr>\n",
       "      <th>2018-03-01 06:00:00</th>\n",
       "      <td>12</td>\n",
       "      <td>3</td>\n",
       "      <td>1</td>\n",
       "      <td>3</td>\n",
       "      <td>6</td>\n",
       "      <td>NaN</td>\n",
       "      <td>NaN</td>\n",
       "      <td>NaN</td>\n",
       "      <td>NaN</td>\n",
       "      <td>NaN</td>\n",
       "      <td>NaN</td>\n",
       "      <td>NaN</td>\n",
       "      <td>NaN</td>\n",
       "    </tr>\n",
       "    <tr>\n",
       "      <th>2018-03-01 07:00:00</th>\n",
       "      <td>15</td>\n",
       "      <td>3</td>\n",
       "      <td>1</td>\n",
       "      <td>3</td>\n",
       "      <td>7</td>\n",
       "      <td>12.0</td>\n",
       "      <td>NaN</td>\n",
       "      <td>NaN</td>\n",
       "      <td>NaN</td>\n",
       "      <td>NaN</td>\n",
       "      <td>NaN</td>\n",
       "      <td>NaN</td>\n",
       "      <td>NaN</td>\n",
       "    </tr>\n",
       "    <tr>\n",
       "      <th>2018-03-01 08:00:00</th>\n",
       "      <td>34</td>\n",
       "      <td>3</td>\n",
       "      <td>1</td>\n",
       "      <td>3</td>\n",
       "      <td>8</td>\n",
       "      <td>15.0</td>\n",
       "      <td>12.0</td>\n",
       "      <td>NaN</td>\n",
       "      <td>NaN</td>\n",
       "      <td>NaN</td>\n",
       "      <td>NaN</td>\n",
       "      <td>NaN</td>\n",
       "      <td>NaN</td>\n",
       "    </tr>\n",
       "    <tr>\n",
       "      <th>2018-03-01 09:00:00</th>\n",
       "      <td>69</td>\n",
       "      <td>3</td>\n",
       "      <td>1</td>\n",
       "      <td>3</td>\n",
       "      <td>9</td>\n",
       "      <td>34.0</td>\n",
       "      <td>15.0</td>\n",
       "      <td>12.0</td>\n",
       "      <td>NaN</td>\n",
       "      <td>NaN</td>\n",
       "      <td>NaN</td>\n",
       "      <td>NaN</td>\n",
       "      <td>NaN</td>\n",
       "    </tr>\n",
       "    <tr>\n",
       "      <th>2018-03-01 10:00:00</th>\n",
       "      <td>64</td>\n",
       "      <td>3</td>\n",
       "      <td>1</td>\n",
       "      <td>3</td>\n",
       "      <td>10</td>\n",
       "      <td>69.0</td>\n",
       "      <td>34.0</td>\n",
       "      <td>15.0</td>\n",
       "      <td>12.0</td>\n",
       "      <td>NaN</td>\n",
       "      <td>NaN</td>\n",
       "      <td>NaN</td>\n",
       "      <td>NaN</td>\n",
       "    </tr>\n",
       "    <tr>\n",
       "      <th>2018-03-01 11:00:00</th>\n",
       "      <td>96</td>\n",
       "      <td>3</td>\n",
       "      <td>1</td>\n",
       "      <td>3</td>\n",
       "      <td>11</td>\n",
       "      <td>64.0</td>\n",
       "      <td>69.0</td>\n",
       "      <td>34.0</td>\n",
       "      <td>15.0</td>\n",
       "      <td>12.0</td>\n",
       "      <td>NaN</td>\n",
       "      <td>NaN</td>\n",
       "      <td>NaN</td>\n",
       "    </tr>\n",
       "    <tr>\n",
       "      <th>2018-03-01 12:00:00</th>\n",
       "      <td>30</td>\n",
       "      <td>3</td>\n",
       "      <td>1</td>\n",
       "      <td>3</td>\n",
       "      <td>12</td>\n",
       "      <td>96.0</td>\n",
       "      <td>64.0</td>\n",
       "      <td>69.0</td>\n",
       "      <td>34.0</td>\n",
       "      <td>15.0</td>\n",
       "      <td>12.0</td>\n",
       "      <td>NaN</td>\n",
       "      <td>NaN</td>\n",
       "    </tr>\n",
       "    <tr>\n",
       "      <th>2018-03-01 13:00:00</th>\n",
       "      <td>32</td>\n",
       "      <td>3</td>\n",
       "      <td>1</td>\n",
       "      <td>3</td>\n",
       "      <td>13</td>\n",
       "      <td>30.0</td>\n",
       "      <td>96.0</td>\n",
       "      <td>64.0</td>\n",
       "      <td>69.0</td>\n",
       "      <td>34.0</td>\n",
       "      <td>15.0</td>\n",
       "      <td>12.0</td>\n",
       "      <td>45.714286</td>\n",
       "    </tr>\n",
       "    <tr>\n",
       "      <th>2018-03-01 14:00:00</th>\n",
       "      <td>48</td>\n",
       "      <td>3</td>\n",
       "      <td>1</td>\n",
       "      <td>3</td>\n",
       "      <td>14</td>\n",
       "      <td>32.0</td>\n",
       "      <td>30.0</td>\n",
       "      <td>96.0</td>\n",
       "      <td>64.0</td>\n",
       "      <td>69.0</td>\n",
       "      <td>34.0</td>\n",
       "      <td>15.0</td>\n",
       "      <td>48.571429</td>\n",
       "    </tr>\n",
       "    <tr>\n",
       "      <th>2018-03-01 15:00:00</th>\n",
       "      <td>66</td>\n",
       "      <td>3</td>\n",
       "      <td>1</td>\n",
       "      <td>3</td>\n",
       "      <td>15</td>\n",
       "      <td>48.0</td>\n",
       "      <td>32.0</td>\n",
       "      <td>30.0</td>\n",
       "      <td>96.0</td>\n",
       "      <td>64.0</td>\n",
       "      <td>69.0</td>\n",
       "      <td>34.0</td>\n",
       "      <td>53.285714</td>\n",
       "    </tr>\n",
       "  </tbody>\n",
       "</table>\n",
       "</div>"
      ],
      "text/plain": [
       "                     num_orders  month  day  dayofweek  hour  lag_1  lag_2  \\\n",
       "datetime                                                                     \n",
       "2018-03-01 06:00:00          12      3    1          3     6    NaN    NaN   \n",
       "2018-03-01 07:00:00          15      3    1          3     7   12.0    NaN   \n",
       "2018-03-01 08:00:00          34      3    1          3     8   15.0   12.0   \n",
       "2018-03-01 09:00:00          69      3    1          3     9   34.0   15.0   \n",
       "2018-03-01 10:00:00          64      3    1          3    10   69.0   34.0   \n",
       "2018-03-01 11:00:00          96      3    1          3    11   64.0   69.0   \n",
       "2018-03-01 12:00:00          30      3    1          3    12   96.0   64.0   \n",
       "2018-03-01 13:00:00          32      3    1          3    13   30.0   96.0   \n",
       "2018-03-01 14:00:00          48      3    1          3    14   32.0   30.0   \n",
       "2018-03-01 15:00:00          66      3    1          3    15   48.0   32.0   \n",
       "\n",
       "                     lag_3  lag_4  lag_5  lag_6  lag_7  rolling_mean  \n",
       "datetime                                                              \n",
       "2018-03-01 06:00:00    NaN    NaN    NaN    NaN    NaN           NaN  \n",
       "2018-03-01 07:00:00    NaN    NaN    NaN    NaN    NaN           NaN  \n",
       "2018-03-01 08:00:00    NaN    NaN    NaN    NaN    NaN           NaN  \n",
       "2018-03-01 09:00:00   12.0    NaN    NaN    NaN    NaN           NaN  \n",
       "2018-03-01 10:00:00   15.0   12.0    NaN    NaN    NaN           NaN  \n",
       "2018-03-01 11:00:00   34.0   15.0   12.0    NaN    NaN           NaN  \n",
       "2018-03-01 12:00:00   69.0   34.0   15.0   12.0    NaN           NaN  \n",
       "2018-03-01 13:00:00   64.0   69.0   34.0   15.0   12.0     45.714286  \n",
       "2018-03-01 14:00:00   96.0   64.0   69.0   34.0   15.0     48.571429  \n",
       "2018-03-01 15:00:00   30.0   96.0   64.0   69.0   34.0     53.285714  "
      ]
     },
     "execution_count": 80,
     "metadata": {},
     "output_type": "execute_result"
    }
   ],
   "source": [
    "df.head(10)"
   ]
  },
  {
   "cell_type": "markdown",
   "metadata": {},
   "source": [
    "**Dropping NaN Values:**"
   ]
  },
  {
   "cell_type": "code",
   "execution_count": 81,
   "metadata": {},
   "outputs": [],
   "source": [
    "df.dropna(inplace=True)"
   ]
  },
  {
   "cell_type": "markdown",
   "metadata": {},
   "source": [
    "## Machine Learning Modeling"
   ]
  },
  {
   "cell_type": "markdown",
   "metadata": {},
   "source": [
    "**Train/Test Split**\n",
    "- The features created above are saved to a feature matrix, X.\n",
    "- The target, 'num_orders' is saved to y.\n",
    "- The test dataset is set to be 10% of the original dataset.\n",
    "- The shuffle parameter is disabled to keep the data in chronological order."
   ]
  },
  {
   "cell_type": "code",
   "execution_count": 82,
   "metadata": {},
   "outputs": [],
   "source": [
    "X = df.drop('num_orders', axis=1)\n",
    "y = df['num_orders']"
   ]
  },
  {
   "cell_type": "code",
   "execution_count": 83,
   "metadata": {},
   "outputs": [],
   "source": [
    "X_train, X_test, y_train, y_test = train_test_split(X, y, test_size=0.1, shuffle=False)"
   ]
  },
  {
   "cell_type": "markdown",
   "metadata": {},
   "source": [
    "**Sanity Check/Dummy Model**\n",
    "- To serve as a baseline for trained models (and evaluate if training has actually taken place in models) I use the median value of the training set as the predictions of the test values. "
   ]
  },
  {
   "cell_type": "code",
   "execution_count": 84,
   "metadata": {},
   "outputs": [
    {
     "name": "stdout",
     "output_type": "stream",
     "text": [
      "Median hourly orders:  75.0\n"
     ]
    }
   ],
   "source": [
    "print('Median hourly orders: ', y_train.median())"
   ]
  },
  {
   "cell_type": "code",
   "execution_count": 85,
   "metadata": {},
   "outputs": [
    {
     "name": "stdout",
     "output_type": "stream",
     "text": [
      "RMSE:  87.24205906985632\n"
     ]
    }
   ],
   "source": [
    "pred_median = np.ones(y_test.shape) * y_train.median()\n",
    "rmse_med = mean_squared_error(y_test, pred_median) ** 0.5\n",
    "print('RMSE: ', rmse_med)"
   ]
  },
  {
   "cell_type": "code",
   "execution_count": 86,
   "metadata": {},
   "outputs": [
    {
     "name": "stderr",
     "output_type": "stream",
     "text": [
      "C:\\Users\\lette\\AppData\\Local\\Temp\\ipykernel_7680\\2907393670.py:8: UserWarning: FigureCanvasAgg is non-interactive, and thus cannot be shown\n",
      "  fig.show()\n"
     ]
    },
    {
     "data": {
      "image/png": "[encoded data removed]",
      "text/plain": [
       "<Figure size 640x480 with 1 Axes>"
      ]
     },
     "metadata": {},
     "output_type": "display_data"
    }
   ],
   "source": [
    "pred = pd.Series(pred_median, index=y_test.index)\n",
    "\n",
    "fig, ax = plt.subplots()\n",
    "pred.plot()\n",
    "y_test.plot()\n",
    "ax.legend(['Predicted','Actual'])\n",
    "ax.set_title('Dummy Model Predictions')\n",
    "fig.show()"
   ]
  },
  {
   "cell_type": "markdown",
   "metadata": {},
   "source": [
    "**Linear Regression Model**\n",
    "- Each model's train and test predictions are evaluated using RMSE."
   ]
  },
  {
   "cell_type": "code",
   "execution_count": 87,
   "metadata": {},
   "outputs": [],
   "source": [
    "lin_model = LinearRegression()\n",
    "lin_model.fit(X_train, y_train)\n",
    "\n",
    "pred_train = lin_model.predict(X_train)\n",
    "pred_test_lin_model = lin_model.predict(X_test)"
   ]
  },
  {
   "cell_type": "code",
   "execution_count": 88,
   "metadata": {},
   "outputs": [],
   "source": [
    "rmse_lin = mean_squared_error(y_test, pred_test_lin_model) ** 0.5"
   ]
  },
  {
   "cell_type": "code",
   "execution_count": 89,
   "metadata": {},
   "outputs": [
    {
     "name": "stdout",
     "output_type": "stream",
     "text": [
      "RMSE for train:  30.42596825157389\n",
      "RMSE for test:  52.73330971844558\n"
     ]
    }
   ],
   "source": [
    "print('RMSE for train: ', mean_squared_error(y_train, pred_train) ** 0.5)\n",
    "print('RMSE for test: ', rmse_lin)"
   ]
  },
  {
   "cell_type": "code",
   "execution_count": 90,
   "metadata": {},
   "outputs": [
    {
     "name": "stderr",
     "output_type": "stream",
     "text": [
      "C:\\Users\\lette\\AppData\\Local\\Temp\\ipykernel_7680\\2065521898.py:8: UserWarning: FigureCanvasAgg is non-interactive, and thus cannot be shown\n",
      "  fig.show()\n"
     ]
    },
    {
     "data": {
      "image/png": "[encoded data removed]",
      "text/plain": [
       "<Figure size 640x480 with 1 Axes>"
      ]
     },
     "metadata": {},
     "output_type": "display_data"
    }
   ],
   "source": [
    "pred = pd.Series(pred_test_lin_model, index=y_test.index)\n",
    "\n",
    "fig, ax = plt.subplots()\n",
    "pred.plot()\n",
    "y_test.plot()\n",
    "ax.legend(['Predicted','Actual'])\n",
    "ax.set_title('Linear Model Predictions')\n",
    "fig.show()"
   ]
  },
  {
   "cell_type": "markdown",
   "metadata": {},
   "source": [
    "**Random Forest**\n",
    "- The hyperparamters of this model are tuned using GridSearchCV.\n",
    "- The best performing model has 'max_depth' of 8 and 120 estimators."
   ]
  },
  {
   "cell_type": "code",
   "execution_count": 91,
   "metadata": {},
   "outputs": [
    {
     "name": "stdout",
     "output_type": "stream",
     "text": [
      "Best model params:  {'max_depth': 8, 'n_estimators': 120}\n"
     ]
    }
   ],
   "source": [
    "forest_model = RandomForestRegressor(random_state=12345)\n",
    "\n",
    "params = {'n_estimators':[80, 100, 120], 'max_depth':[2, 5, 8]}\n",
    "grid = GridSearchCV(forest_model, params)\n",
    "grid.fit(X_train, y_train)\n",
    "\n",
    "forest_model = grid.best_estimator_\n",
    "print('Best model params: ', grid.best_params_)"
   ]
  },
  {
   "cell_type": "code",
   "execution_count": 92,
   "metadata": {},
   "outputs": [],
   "source": [
    "pred_train = lin_model.predict(X_train)\n",
    "pred_test_forest_model = lin_model.predict(X_test)"
   ]
  },
  {
   "cell_type": "code",
   "execution_count": 93,
   "metadata": {},
   "outputs": [],
   "source": [
    "rmse_forest = mean_squared_error(y_test, pred_test_forest_model) ** 0.5"
   ]
  },
  {
   "cell_type": "code",
   "execution_count": 94,
   "metadata": {},
   "outputs": [
    {
     "name": "stdout",
     "output_type": "stream",
     "text": [
      "RMSE for train:  30.42596825157389\n",
      "RMSE for test:  52.73330971844558\n"
     ]
    }
   ],
   "source": [
    "print('RMSE for train: ', mean_squared_error(y_train, pred_train) ** 0.5)\n",
    "print('RMSE for test: ', rmse_forest)"
   ]
  },
  {
   "cell_type": "code",
   "execution_count": 95,
   "metadata": {},
   "outputs": [
    {
     "name": "stderr",
     "output_type": "stream",
     "text": [
      "C:\\Users\\lette\\AppData\\Local\\Temp\\ipykernel_7680\\4059806153.py:8: UserWarning: FigureCanvasAgg is non-interactive, and thus cannot be shown\n",
      "  fig.show()\n"
     ]
    },
    {
     "data": {
      "image/png": "[encoded data removed]",
      "text/plain": [
       "<Figure size 640x480 with 1 Axes>"
      ]
     },
     "metadata": {},
     "output_type": "display_data"
    }
   ],
   "source": [
    "pred = pd.Series(pred_test_forest_model, index=y_test.index)\n",
    "\n",
    "fig, ax = plt.subplots()\n",
    "pred.plot()\n",
    "y_test.plot()\n",
    "ax.legend(['Predicted','Actual'])\n",
    "ax.set_title('Forest Model Predictions')\n",
    "fig.show()"
   ]
  },
  {
   "cell_type": "markdown",
   "metadata": {},
   "source": [
    "**Gradient Boosting Regressor**\n",
    "- Similarly to the RandomForestRegressor, this model uses GridSearchCV for hyperparamter tuning.\n",
    "- The best model has a 'max depth' of 5 and 80 estimators."
   ]
  },
  {
   "cell_type": "code",
   "execution_count": 96,
   "metadata": {},
   "outputs": [
    {
     "name": "stdout",
     "output_type": "stream",
     "text": [
      "Best model params:  {'max_depth': 5, 'n_estimators': 100}\n"
     ]
    }
   ],
   "source": [
    "gb_model = GradientBoostingRegressor(random_state=12345)\n",
    "\n",
    "params = {'n_estimators':[80, 100, 120], 'max_depth':[5, 10, 15]}\n",
    "grid = GridSearchCV(gb_model, params)\n",
    "grid.fit(X_train, y_train)\n",
    "\n",
    "gb_model = grid.best_estimator_\n",
    "print('Best model params: ', grid.best_params_)"
   ]
  },
  {
   "cell_type": "code",
   "execution_count": 97,
   "metadata": {},
   "outputs": [
    {
     "name": "stdout",
     "output_type": "stream",
     "text": [
      "RMSE GB Model Train:  15.086568468951414\n",
      "RMSE GB Model Test:  44.12760349466151\n"
     ]
    }
   ],
   "source": [
    "pred_train = gb_model.predict(X_train)\n",
    "pred_test_gb_model = gb_model.predict(X_test)\n",
    "\n",
    "rmse_gb = mean_squared_error(y_test, pred_test_gb_model) ** 0.5\n",
    "\n",
    "print('RMSE GB Model Train: ', mean_squared_error(y_train, pred_train) ** 0.5)\n",
    "print('RMSE GB Model Test: ', rmse_gb)"
   ]
  },
  {
   "cell_type": "code",
   "execution_count": 98,
   "metadata": {},
   "outputs": [
    {
     "name": "stderr",
     "output_type": "stream",
     "text": [
      "C:\\Users\\lette\\AppData\\Local\\Temp\\ipykernel_7680\\675088743.py:8: UserWarning: FigureCanvasAgg is non-interactive, and thus cannot be shown\n",
      "  fig.show()\n"
     ]
    },
    {
     "data": {
      "image/png": "[encoded data removed]",
      "text/plain": [
       "<Figure size 640x480 with 1 Axes>"
      ]
     },
     "metadata": {},
     "output_type": "display_data"
    }
   ],
   "source": [
    "pred = pd.Series(pred_test_gb_model, index=y_test.index)\n",
    "\n",
    "fig, ax = plt.subplots()\n",
    "pred.plot()\n",
    "y_test.plot()\n",
    "ax.legend(['Predicted','Actual'])\n",
    "ax.set_title('Gradient Boosting Model Predictions')\n",
    "fig.show()"
   ]
  },
  {
   "cell_type": "markdown",
   "metadata": {},
   "source": [
    "**Autoregressive Model**\n",
    "- Before model training, the method 'ar_select_order' is called to determine the optimal number of lags."
   ]
  },
  {
   "cell_type": "code",
   "execution_count": 99,
   "metadata": {},
   "outputs": [],
   "source": [
    "df = df.iloc[:,0]\n",
    "train, test = train_test_split(df, test_size=0.1, shuffle=False)"
   ]
  },
  {
   "cell_type": "code",
   "execution_count": 100,
   "metadata": {},
   "outputs": [
    {
     "name": "stdout",
     "output_type": "stream",
     "text": [
      "Number of lags defining order:  [1, 2, 3, 4, 5, 6, 7, 8, 9, 10, 11, 12, 13, 14, 15, 16, 17, 18, 19, 20, 21, 22, 23, 24, 25, 26, 27, 28]\n"
     ]
    }
   ],
   "source": [
    "mod = ar_select_order(endog=train, maxlag=40)\n",
    "ar_order = mod.ar_lags\n",
    "print('Number of lags defining order: ', ar_order)"
   ]
  },
  {
   "cell_type": "code",
   "execution_count": 101,
   "metadata": {},
   "outputs": [
    {
     "name": "stdout",
     "output_type": "stream",
     "text": [
      "RMSE of AutoRegressive Model:  74.85353801440668\n"
     ]
    }
   ],
   "source": [
    "ar_model = AutoReg(train, lags=ar_order).fit()\n",
    "\n",
    "start_val = len(train)\n",
    "end_val = len(train) + len(test) - 1\n",
    "\n",
    "ar_pred_ar_model = ar_model.model.predict(ar_model.params, start=start_val, end=end_val, dynamic=False)\n",
    "rmse_ar = mean_squared_error(test, ar_pred_ar_model) ** 0.5\n",
    "\n",
    "print('RMSE of AutoRegressive Model: ', rmse_ar)"
   ]
  },
  {
   "cell_type": "code",
   "execution_count": 102,
   "metadata": {},
   "outputs": [
    {
     "name": "stderr",
     "output_type": "stream",
     "text": [
      "C:\\Users\\lette\\AppData\\Local\\Temp\\ipykernel_7680\\1618117033.py:8: UserWarning: FigureCanvasAgg is non-interactive, and thus cannot be shown\n",
      "  fig.show()\n"
     ]
    },
    {
     "data": {
      "image/png": "[encoded data removed]",
      "text/plain": [
       "<Figure size 640x480 with 1 Axes>"
      ]
     },
     "metadata": {},
     "output_type": "display_data"
    }
   ],
   "source": [
    "pred = pd.Series(ar_pred_ar_model, index=y_test.index)\n",
    "\n",
    "fig, ax = plt.subplots()\n",
    "pred.plot()\n",
    "y_test.plot()\n",
    "ax.legend(['Predicted','Actual'])\n",
    "ax.set_title('Autoregressive Model Predictions')\n",
    "fig.show()"
   ]
  },
  {
   "cell_type": "markdown",
   "metadata": {},
   "source": [
    "## Model Testing"
   ]
  },
  {
   "cell_type": "markdown",
   "metadata": {},
   "source": [
    "**Test RMSE of Models**\n",
    "- The GradientBoostingRegressor performed best, receiving the lowest RMSE score. It outperformed the Median 'dummy model' by a large margin.\n",
    "- Of the trained models, the AR model performed most poorly. The LinearRegression and Random Forest models are about equal in their performance but Linear Regression is significantly faster to train."
   ]
  },
  {
   "cell_type": "code",
   "execution_count": 103,
   "metadata": {},
   "outputs": [
    {
     "name": "stdout",
     "output_type": "stream",
     "text": [
      "Linear Model Test RMSE: 52.733\n",
      "Random Forest Model Test RMSE: 52.733\n",
      "Gradient Boosting Model Test RMSE: 44.128\n",
      "AR Model Test RMSE: 74.854\n",
      "Median RMSE: 87.242\n"
     ]
    }
   ],
   "source": [
    "print('Linear Model Test RMSE: {:.3f}'.format(rmse_lin))\n",
    "print('Random Forest Model Test RMSE: {:.3f}'.format(rmse_forest))\n",
    "print('Gradient Boosting Model Test RMSE: {:.3f}'.format(rmse_gb))\n",
    "print('AR Model Test RMSE: {:.3f}'.format(rmse_ar))\n",
    "print('Median RMSE: {:.3f}'.format(rmse_med))"
   ]
  },
  {
   "cell_type": "markdown",
   "metadata": {},
   "source": [
    "## Model Selection\n",
    "- The Gradient Boosting model received an RMSE score less than 48 and provided the best quality in forecasting the target 'num_orders'. For this reason, I recommend that this model be used for hourly taxi cab order predictions."
   ]
  },
  {
   "cell_type": "code",
   "execution_count": null,
   "metadata": {},
   "outputs": [],
   "source": []
  }
 ],
 "metadata": {
  "ExecuteTimeLog": [
   {
    "duration": 437,
    "start_time": "2024-06-04T17:49:48.649Z"
   },
   {
    "duration": 36,
    "start_time": "2024-06-04T17:49:49.605Z"
   },
   {
    "duration": 17,
    "start_time": "2024-06-04T17:50:02.448Z"
   },
   {
    "duration": 59,
    "start_time": "2024-06-04T17:52:03.817Z"
   },
   {
    "duration": 10,
    "start_time": "2024-06-04T17:52:05.207Z"
   },
   {
    "duration": 11,
    "start_time": "2024-06-04T17:53:31.688Z"
   },
   {
    "duration": 10,
    "start_time": "2024-06-04T17:54:12.727Z"
   },
   {
    "duration": 4396,
    "start_time": "2024-06-04T17:54:32.985Z"
   },
   {
    "duration": 10,
    "start_time": "2024-06-04T17:55:06.213Z"
   },
   {
    "duration": 10,
    "start_time": "2024-06-04T17:55:25.920Z"
   },
   {
    "duration": 17,
    "start_time": "2024-06-04T17:56:01.324Z"
   },
   {
    "duration": 8,
    "start_time": "2024-06-04T17:57:50.263Z"
   },
   {
    "duration": 5,
    "start_time": "2024-06-04T17:58:22.219Z"
   },
   {
    "duration": 500,
    "start_time": "2024-06-04T17:58:32.821Z"
   },
   {
    "duration": 503,
    "start_time": "2024-06-04T17:59:57.592Z"
   },
   {
    "duration": 8,
    "start_time": "2024-06-04T18:01:08.411Z"
   },
   {
    "duration": 421,
    "start_time": "2024-06-04T18:01:09.898Z"
   },
   {
    "duration": 5,
    "start_time": "2024-06-04T18:01:16.589Z"
   },
   {
    "duration": 32,
    "start_time": "2024-06-04T18:01:16.597Z"
   },
   {
    "duration": 9,
    "start_time": "2024-06-04T18:01:16.632Z"
   },
   {
    "duration": 9,
    "start_time": "2024-06-04T18:01:16.644Z"
   },
   {
    "duration": 7,
    "start_time": "2024-06-04T18:01:16.657Z"
   },
   {
    "duration": 487,
    "start_time": "2024-06-04T18:01:16.666Z"
   },
   {
    "duration": 444,
    "start_time": "2024-06-04T18:02:02.191Z"
   },
   {
    "duration": 8,
    "start_time": "2024-06-04T18:02:21.145Z"
   },
   {
    "duration": 864,
    "start_time": "2024-06-04T18:03:00.422Z"
   },
   {
    "duration": 8,
    "start_time": "2024-06-04T18:04:46.915Z"
   },
   {
    "duration": 4,
    "start_time": "2024-06-04T18:05:07.756Z"
   },
   {
    "duration": 33,
    "start_time": "2024-06-04T18:05:07.768Z"
   },
   {
    "duration": 9,
    "start_time": "2024-06-04T18:05:07.805Z"
   },
   {
    "duration": 8,
    "start_time": "2024-06-04T18:05:07.816Z"
   },
   {
    "duration": 9,
    "start_time": "2024-06-04T18:05:07.828Z"
   },
   {
    "duration": 7,
    "start_time": "2024-06-04T18:05:07.841Z"
   },
   {
    "duration": 515,
    "start_time": "2024-06-04T18:05:07.851Z"
   },
   {
    "duration": 12,
    "start_time": "2024-06-04T18:05:08.369Z"
   },
   {
    "duration": 862,
    "start_time": "2024-06-04T18:05:08.383Z"
   },
   {
    "duration": 10,
    "start_time": "2024-06-04T18:08:04.173Z"
   },
   {
    "duration": 368,
    "start_time": "2024-06-04T18:08:05.177Z"
   },
   {
    "duration": 11,
    "start_time": "2024-06-04T18:08:06.847Z"
   },
   {
    "duration": 34,
    "start_time": "2024-06-04T18:09:05.313Z"
   },
   {
    "duration": 33,
    "start_time": "2024-06-04T18:09:05.350Z"
   },
   {
    "duration": 9,
    "start_time": "2024-06-04T18:09:05.385Z"
   },
   {
    "duration": 8,
    "start_time": "2024-06-04T18:09:05.413Z"
   },
   {
    "duration": 13,
    "start_time": "2024-06-04T18:09:05.425Z"
   },
   {
    "duration": 12,
    "start_time": "2024-06-04T18:09:05.440Z"
   },
   {
    "duration": 990,
    "start_time": "2024-06-04T18:09:05.454Z"
   },
   {
    "duration": 12,
    "start_time": "2024-06-04T18:09:06.448Z"
   },
   {
    "duration": 404,
    "start_time": "2024-06-04T18:09:06.464Z"
   },
   {
    "duration": 400,
    "start_time": "2024-06-04T18:11:00.615Z"
   },
   {
    "duration": 4,
    "start_time": "2024-06-04T18:11:11.686Z"
   },
   {
    "duration": 36,
    "start_time": "2024-06-04T18:11:11.694Z"
   },
   {
    "duration": 9,
    "start_time": "2024-06-04T18:11:11.733Z"
   },
   {
    "duration": 8,
    "start_time": "2024-06-04T18:11:11.746Z"
   },
   {
    "duration": 9,
    "start_time": "2024-06-04T18:11:11.760Z"
   },
   {
    "duration": 46,
    "start_time": "2024-06-04T18:11:11.773Z"
   },
   {
    "duration": 859,
    "start_time": "2024-06-04T18:11:11.823Z"
   },
   {
    "duration": 374,
    "start_time": "2024-06-04T18:11:12.684Z"
   },
   {
    "duration": 9,
    "start_time": "2024-06-04T18:11:13.062Z"
   },
   {
    "duration": 380,
    "start_time": "2024-06-04T18:12:09.216Z"
   },
   {
    "duration": 430,
    "start_time": "2024-06-04T18:13:15.386Z"
   },
   {
    "duration": 340,
    "start_time": "2024-06-04T18:14:05.291Z"
   },
   {
    "duration": 3,
    "start_time": "2024-06-04T18:14:24.307Z"
   },
   {
    "duration": 34,
    "start_time": "2024-06-04T18:14:24.314Z"
   },
   {
    "duration": 10,
    "start_time": "2024-06-04T18:14:24.351Z"
   },
   {
    "duration": 8,
    "start_time": "2024-06-04T18:14:24.364Z"
   },
   {
    "duration": 43,
    "start_time": "2024-06-04T18:14:24.378Z"
   },
   {
    "duration": 13,
    "start_time": "2024-06-04T18:14:24.426Z"
   },
   {
    "duration": 883,
    "start_time": "2024-06-04T18:14:24.442Z"
   },
   {
    "duration": 405,
    "start_time": "2024-06-04T18:14:25.328Z"
   },
   {
    "duration": 133,
    "start_time": "2024-06-04T18:14:25.737Z"
   },
   {
    "duration": 52,
    "start_time": "2024-06-04T18:15:18.531Z"
   },
   {
    "duration": 5,
    "start_time": "2024-06-04T18:15:38.262Z"
   },
   {
    "duration": 10,
    "start_time": "2024-06-04T18:15:49.080Z"
   },
   {
    "duration": 9,
    "start_time": "2024-06-04T18:16:36.722Z"
   },
   {
    "duration": 4,
    "start_time": "2024-06-04T18:17:26.747Z"
   },
   {
    "duration": 27,
    "start_time": "2024-06-04T18:17:43.189Z"
   },
   {
    "duration": 3,
    "start_time": "2024-06-04T18:17:48.276Z"
   },
   {
    "duration": 32,
    "start_time": "2024-06-04T18:17:48.284Z"
   },
   {
    "duration": 9,
    "start_time": "2024-06-04T18:17:48.319Z"
   },
   {
    "duration": 11,
    "start_time": "2024-06-04T18:17:48.331Z"
   },
   {
    "duration": 9,
    "start_time": "2024-06-04T18:17:48.346Z"
   },
   {
    "duration": 12,
    "start_time": "2024-06-04T18:17:48.359Z"
   },
   {
    "duration": 1007,
    "start_time": "2024-06-04T18:17:48.374Z"
   },
   {
    "duration": 396,
    "start_time": "2024-06-04T18:17:49.384Z"
   },
   {
    "duration": 31,
    "start_time": "2024-06-04T18:17:49.783Z"
   },
   {
    "duration": 18,
    "start_time": "2024-06-04T18:18:17.698Z"
   },
   {
    "duration": 15,
    "start_time": "2024-06-04T18:18:28.074Z"
   },
   {
    "duration": 1384,
    "start_time": "2024-06-04T18:18:48.882Z"
   },
   {
    "duration": 3,
    "start_time": "2024-06-04T18:18:58.659Z"
   },
   {
    "duration": 35,
    "start_time": "2024-06-04T18:18:58.677Z"
   },
   {
    "duration": 9,
    "start_time": "2024-06-04T18:18:58.715Z"
   },
   {
    "duration": 9,
    "start_time": "2024-06-04T18:18:58.727Z"
   },
   {
    "duration": 10,
    "start_time": "2024-06-04T18:18:58.739Z"
   },
   {
    "duration": 11,
    "start_time": "2024-06-04T18:18:58.753Z"
   },
   {
    "duration": 892,
    "start_time": "2024-06-04T18:18:58.766Z"
   },
   {
    "duration": 398,
    "start_time": "2024-06-04T18:18:59.662Z"
   },
   {
    "duration": 11,
    "start_time": "2024-06-04T18:19:00.063Z"
   },
   {
    "duration": 70,
    "start_time": "2024-06-04T18:19:22.515Z"
   },
   {
    "duration": 4,
    "start_time": "2024-06-04T18:19:25.708Z"
   },
   {
    "duration": 34,
    "start_time": "2024-06-04T18:19:25.725Z"
   },
   {
    "duration": 8,
    "start_time": "2024-06-04T18:19:25.763Z"
   },
   {
    "duration": 8,
    "start_time": "2024-06-04T18:19:25.774Z"
   },
   {
    "duration": 9,
    "start_time": "2024-06-04T18:19:25.812Z"
   },
   {
    "duration": 12,
    "start_time": "2024-06-04T18:19:25.826Z"
   },
   {
    "duration": 888,
    "start_time": "2024-06-04T18:19:25.841Z"
   },
   {
    "duration": 402,
    "start_time": "2024-06-04T18:19:26.735Z"
   },
   {
    "duration": 407,
    "start_time": "2024-06-04T18:19:27.140Z"
   },
   {
    "duration": 806,
    "start_time": "2024-06-04T18:21:37.108Z"
   },
   {
    "duration": 464,
    "start_time": "2024-06-04T18:21:42.610Z"
   },
   {
    "duration": 45,
    "start_time": "2024-06-04T18:21:43.077Z"
   },
   {
    "duration": 10,
    "start_time": "2024-06-04T18:21:43.125Z"
   },
   {
    "duration": 7,
    "start_time": "2024-06-04T18:21:43.139Z"
   },
   {
    "duration": 12,
    "start_time": "2024-06-04T18:21:43.149Z"
   },
   {
    "duration": 51,
    "start_time": "2024-06-04T18:21:43.164Z"
   },
   {
    "duration": 882,
    "start_time": "2024-06-04T18:21:43.218Z"
   },
   {
    "duration": 182,
    "start_time": "2024-06-04T18:21:44.103Z"
   },
   {
    "duration": 0,
    "start_time": "2024-06-04T18:21:44.288Z"
   },
   {
    "duration": 418,
    "start_time": "2024-06-04T18:22:04.982Z"
   },
   {
    "duration": 158,
    "start_time": "2024-06-04T18:22:41.395Z"
   },
   {
    "duration": 4,
    "start_time": "2024-06-04T18:22:44.403Z"
   },
   {
    "duration": 32,
    "start_time": "2024-06-04T18:22:44.415Z"
   },
   {
    "duration": 8,
    "start_time": "2024-06-04T18:22:44.453Z"
   },
   {
    "duration": 8,
    "start_time": "2024-06-04T18:22:44.464Z"
   },
   {
    "duration": 38,
    "start_time": "2024-06-04T18:22:44.475Z"
   },
   {
    "duration": 13,
    "start_time": "2024-06-04T18:22:44.518Z"
   },
   {
    "duration": 868,
    "start_time": "2024-06-04T18:22:44.534Z"
   },
   {
    "duration": 417,
    "start_time": "2024-06-04T18:22:45.411Z"
   },
   {
    "duration": 170,
    "start_time": "2024-06-04T18:22:45.831Z"
   },
   {
    "duration": 5,
    "start_time": "2024-06-04T18:23:03.645Z"
   },
   {
    "duration": 36,
    "start_time": "2024-06-04T18:23:03.656Z"
   },
   {
    "duration": 11,
    "start_time": "2024-06-04T18:23:03.695Z"
   },
   {
    "duration": 9,
    "start_time": "2024-06-04T18:23:03.709Z"
   },
   {
    "duration": 16,
    "start_time": "2024-06-04T18:23:03.722Z"
   },
   {
    "duration": 15,
    "start_time": "2024-06-04T18:23:03.741Z"
   },
   {
    "duration": 899,
    "start_time": "2024-06-04T18:23:03.762Z"
   },
   {
    "duration": 443,
    "start_time": "2024-06-04T18:23:04.665Z"
   },
   {
    "duration": 167,
    "start_time": "2024-06-04T18:23:05.114Z"
   },
   {
    "duration": 71,
    "start_time": "2024-06-04T18:23:28.019Z"
   },
   {
    "duration": 5,
    "start_time": "2024-06-04T18:23:31.331Z"
   },
   {
    "duration": 33,
    "start_time": "2024-06-04T18:23:31.343Z"
   },
   {
    "duration": 10,
    "start_time": "2024-06-04T18:23:31.380Z"
   },
   {
    "duration": 20,
    "start_time": "2024-06-04T18:23:31.392Z"
   },
   {
    "duration": 9,
    "start_time": "2024-06-04T18:23:31.415Z"
   },
   {
    "duration": 11,
    "start_time": "2024-06-04T18:23:31.428Z"
   },
   {
    "duration": 870,
    "start_time": "2024-06-04T18:23:31.442Z"
   },
   {
    "duration": 435,
    "start_time": "2024-06-04T18:23:32.315Z"
   },
   {
    "duration": 164,
    "start_time": "2024-06-04T18:23:32.753Z"
   },
   {
    "duration": 4,
    "start_time": "2024-06-04T18:24:09.300Z"
   },
   {
    "duration": 32,
    "start_time": "2024-06-04T18:24:09.515Z"
   },
   {
    "duration": 8,
    "start_time": "2024-06-04T18:24:09.818Z"
   },
   {
    "duration": 7,
    "start_time": "2024-06-04T18:24:10.018Z"
   },
   {
    "duration": 9,
    "start_time": "2024-06-04T18:24:10.664Z"
   },
   {
    "duration": 11,
    "start_time": "2024-06-04T18:24:11.130Z"
   },
   {
    "duration": 1094,
    "start_time": "2024-06-04T18:24:11.479Z"
   },
   {
    "duration": 438,
    "start_time": "2024-06-04T18:24:12.577Z"
   },
   {
    "duration": 154,
    "start_time": "2024-06-04T18:24:14.147Z"
   },
   {
    "duration": 71,
    "start_time": "2024-06-04T18:24:33.932Z"
   },
   {
    "duration": 78,
    "start_time": "2024-06-04T18:25:03.211Z"
   },
   {
    "duration": 149,
    "start_time": "2024-06-04T18:25:22.533Z"
   },
   {
    "duration": 5,
    "start_time": "2024-06-04T18:25:28.967Z"
   },
   {
    "duration": 34,
    "start_time": "2024-06-04T18:25:28.979Z"
   },
   {
    "duration": 8,
    "start_time": "2024-06-04T18:25:29.018Z"
   },
   {
    "duration": 7,
    "start_time": "2024-06-04T18:25:29.029Z"
   },
   {
    "duration": 9,
    "start_time": "2024-06-04T18:25:29.040Z"
   },
   {
    "duration": 10,
    "start_time": "2024-06-04T18:25:29.054Z"
   },
   {
    "duration": 835,
    "start_time": "2024-06-04T18:25:29.112Z"
   },
   {
    "duration": 394,
    "start_time": "2024-06-04T18:25:29.951Z"
   },
   {
    "duration": 377,
    "start_time": "2024-06-04T18:25:30.347Z"
   },
   {
    "duration": 80,
    "start_time": "2024-06-04T18:26:01.465Z"
   },
   {
    "duration": 406,
    "start_time": "2024-06-04T18:26:05.216Z"
   },
   {
    "duration": 384,
    "start_time": "2024-06-04T18:26:06.055Z"
   },
   {
    "duration": 4,
    "start_time": "2024-06-04T18:26:11.139Z"
   },
   {
    "duration": 34,
    "start_time": "2024-06-04T18:26:11.155Z"
   },
   {
    "duration": 8,
    "start_time": "2024-06-04T18:26:11.193Z"
   },
   {
    "duration": 9,
    "start_time": "2024-06-04T18:26:11.204Z"
   },
   {
    "duration": 9,
    "start_time": "2024-06-04T18:26:11.217Z"
   },
   {
    "duration": 12,
    "start_time": "2024-06-04T18:26:11.231Z"
   },
   {
    "duration": 896,
    "start_time": "2024-06-04T18:26:11.245Z"
   },
   {
    "duration": 392,
    "start_time": "2024-06-04T18:26:12.145Z"
   },
   {
    "duration": 415,
    "start_time": "2024-06-04T18:26:12.540Z"
   },
   {
    "duration": 5,
    "start_time": "2024-06-04T18:26:42.109Z"
   },
   {
    "duration": 34,
    "start_time": "2024-06-04T18:26:42.133Z"
   },
   {
    "duration": 9,
    "start_time": "2024-06-04T18:26:42.171Z"
   },
   {
    "duration": 8,
    "start_time": "2024-06-04T18:26:42.183Z"
   },
   {
    "duration": 27,
    "start_time": "2024-06-04T18:26:42.193Z"
   },
   {
    "duration": 12,
    "start_time": "2024-06-04T18:26:42.226Z"
   },
   {
    "duration": 887,
    "start_time": "2024-06-04T18:26:42.241Z"
   },
   {
    "duration": 415,
    "start_time": "2024-06-04T18:26:43.131Z"
   },
   {
    "duration": 424,
    "start_time": "2024-06-04T18:26:43.549Z"
   },
   {
    "duration": 5050,
    "start_time": "2024-06-05T14:12:58.588Z"
   },
   {
    "duration": 54,
    "start_time": "2024-06-05T14:13:03.642Z"
   },
   {
    "duration": 12,
    "start_time": "2024-06-05T14:13:03.699Z"
   },
   {
    "duration": 14,
    "start_time": "2024-06-05T14:13:03.716Z"
   },
   {
    "duration": 12,
    "start_time": "2024-06-05T14:13:03.733Z"
   },
   {
    "duration": 13,
    "start_time": "2024-06-05T14:13:03.748Z"
   },
   {
    "duration": 963,
    "start_time": "2024-06-05T14:13:03.764Z"
   },
   {
    "duration": 375,
    "start_time": "2024-06-05T14:13:04.730Z"
   },
   {
    "duration": 407,
    "start_time": "2024-06-05T14:13:05.109Z"
   },
   {
    "duration": 20,
    "start_time": "2024-06-05T14:13:05.521Z"
   },
   {
    "duration": 27,
    "start_time": "2024-06-05T14:13:15.304Z"
   },
   {
    "duration": 20,
    "start_time": "2024-06-05T14:13:34.676Z"
   },
   {
    "duration": 9,
    "start_time": "2024-06-05T14:15:09.958Z"
   },
   {
    "duration": 5,
    "start_time": "2024-06-05T14:16:18.344Z"
   },
   {
    "duration": 5,
    "start_time": "2024-06-05T14:24:39.494Z"
   },
   {
    "duration": 34,
    "start_time": "2024-06-05T14:24:39.507Z"
   },
   {
    "duration": 10,
    "start_time": "2024-06-05T14:24:39.544Z"
   },
   {
    "duration": 10,
    "start_time": "2024-06-05T14:24:39.557Z"
   },
   {
    "duration": 11,
    "start_time": "2024-06-05T14:24:39.570Z"
   },
   {
    "duration": 46,
    "start_time": "2024-06-05T14:24:39.587Z"
   },
   {
    "duration": 866,
    "start_time": "2024-06-05T14:24:39.636Z"
   },
   {
    "duration": 504,
    "start_time": "2024-06-05T14:24:40.505Z"
   },
   {
    "duration": 407,
    "start_time": "2024-06-05T14:24:41.012Z"
   },
   {
    "duration": 17,
    "start_time": "2024-06-05T14:24:41.429Z"
   },
   {
    "duration": 21,
    "start_time": "2024-06-05T14:24:41.448Z"
   },
   {
    "duration": 11,
    "start_time": "2024-06-05T14:24:41.474Z"
   },
   {
    "duration": 6,
    "start_time": "2024-06-05T14:24:41.487Z"
   },
   {
    "duration": 8,
    "start_time": "2024-06-05T14:24:41.531Z"
   },
   {
    "duration": 87,
    "start_time": "2024-06-05T14:24:41.544Z"
   },
   {
    "duration": 7,
    "start_time": "2024-06-05T14:24:41.633Z"
   },
   {
    "duration": 4,
    "start_time": "2024-06-05T14:31:07.241Z"
   },
   {
    "duration": 1048,
    "start_time": "2024-06-05T14:31:10.430Z"
   },
   {
    "duration": 126,
    "start_time": "2024-06-05T14:31:26.633Z"
   },
   {
    "duration": 5,
    "start_time": "2024-06-05T14:31:29.866Z"
   },
   {
    "duration": 33,
    "start_time": "2024-06-05T14:31:29.875Z"
   },
   {
    "duration": 9,
    "start_time": "2024-06-05T14:31:29.911Z"
   },
   {
    "duration": 8,
    "start_time": "2024-06-05T14:31:29.924Z"
   },
   {
    "duration": 8,
    "start_time": "2024-06-05T14:31:29.935Z"
   },
   {
    "duration": 11,
    "start_time": "2024-06-05T14:31:29.946Z"
   },
   {
    "duration": 871,
    "start_time": "2024-06-05T14:31:29.960Z"
   },
   {
    "duration": 379,
    "start_time": "2024-06-05T14:31:30.835Z"
   },
   {
    "duration": 405,
    "start_time": "2024-06-05T14:31:31.217Z"
   },
   {
    "duration": 15,
    "start_time": "2024-06-05T14:31:31.631Z"
   },
   {
    "duration": 22,
    "start_time": "2024-06-05T14:31:31.648Z"
   },
   {
    "duration": 10,
    "start_time": "2024-06-05T14:31:31.674Z"
   },
   {
    "duration": 46,
    "start_time": "2024-06-05T14:31:31.687Z"
   },
   {
    "duration": 8,
    "start_time": "2024-06-05T14:31:31.737Z"
   },
   {
    "duration": 24,
    "start_time": "2024-06-05T14:31:31.748Z"
   },
   {
    "duration": 61,
    "start_time": "2024-06-05T14:31:31.775Z"
   },
   {
    "duration": 3,
    "start_time": "2024-06-05T14:31:31.839Z"
   },
   {
    "duration": 122,
    "start_time": "2024-06-05T14:32:07.157Z"
   },
   {
    "duration": 134,
    "start_time": "2024-06-05T14:33:43.916Z"
   },
   {
    "duration": 8,
    "start_time": "2024-06-05T14:34:03.984Z"
   },
   {
    "duration": 4,
    "start_time": "2024-06-05T14:34:07.123Z"
   },
   {
    "duration": 34,
    "start_time": "2024-06-05T14:34:07.131Z"
   },
   {
    "duration": 10,
    "start_time": "2024-06-05T14:34:07.167Z"
   },
   {
    "duration": 8,
    "start_time": "2024-06-05T14:34:07.179Z"
   },
   {
    "duration": 39,
    "start_time": "2024-06-05T14:34:07.191Z"
   },
   {
    "duration": 10,
    "start_time": "2024-06-05T14:34:07.233Z"
   },
   {
    "duration": 984,
    "start_time": "2024-06-05T14:34:07.246Z"
   },
   {
    "duration": 389,
    "start_time": "2024-06-05T14:34:08.233Z"
   },
   {
    "duration": 413,
    "start_time": "2024-06-05T14:34:08.630Z"
   },
   {
    "duration": 16,
    "start_time": "2024-06-05T14:34:09.046Z"
   },
   {
    "duration": 24,
    "start_time": "2024-06-05T14:34:09.065Z"
   },
   {
    "duration": 41,
    "start_time": "2024-06-05T14:34:09.092Z"
   },
   {
    "duration": 6,
    "start_time": "2024-06-05T14:34:09.136Z"
   },
   {
    "duration": 7,
    "start_time": "2024-06-05T14:34:09.147Z"
   },
   {
    "duration": 79,
    "start_time": "2024-06-05T14:34:09.156Z"
   },
   {
    "duration": 9,
    "start_time": "2024-06-05T14:34:09.238Z"
   },
   {
    "duration": 96,
    "start_time": "2024-06-05T14:34:09.250Z"
   },
   {
    "duration": 4,
    "start_time": "2024-06-05T14:36:26.360Z"
   },
   {
    "duration": 235,
    "start_time": "2024-06-05T14:36:29.629Z"
   },
   {
    "duration": 4,
    "start_time": "2024-06-05T14:36:32.271Z"
   },
   {
    "duration": 35,
    "start_time": "2024-06-05T14:36:32.279Z"
   },
   {
    "duration": 9,
    "start_time": "2024-06-05T14:36:32.317Z"
   },
   {
    "duration": 8,
    "start_time": "2024-06-05T14:36:32.332Z"
   },
   {
    "duration": 11,
    "start_time": "2024-06-05T14:36:32.343Z"
   },
   {
    "duration": 11,
    "start_time": "2024-06-05T14:36:32.357Z"
   },
   {
    "duration": 881,
    "start_time": "2024-06-05T14:36:32.371Z"
   },
   {
    "duration": 390,
    "start_time": "2024-06-05T14:36:33.255Z"
   },
   {
    "duration": 415,
    "start_time": "2024-06-05T14:36:33.648Z"
   },
   {
    "duration": 17,
    "start_time": "2024-06-05T14:36:34.069Z"
   },
   {
    "duration": 46,
    "start_time": "2024-06-05T14:36:34.088Z"
   },
   {
    "duration": 10,
    "start_time": "2024-06-05T14:36:34.137Z"
   },
   {
    "duration": 5,
    "start_time": "2024-06-05T14:36:34.150Z"
   },
   {
    "duration": 7,
    "start_time": "2024-06-05T14:36:34.158Z"
   },
   {
    "duration": 67,
    "start_time": "2024-06-05T14:36:34.168Z"
   },
   {
    "duration": 9,
    "start_time": "2024-06-05T14:36:34.239Z"
   },
   {
    "duration": 82,
    "start_time": "2024-06-05T14:36:34.251Z"
   },
   {
    "duration": 5,
    "start_time": "2024-06-05T14:37:32.360Z"
   },
   {
    "duration": 39,
    "start_time": "2024-06-05T14:37:32.370Z"
   },
   {
    "duration": 16,
    "start_time": "2024-06-05T14:37:32.412Z"
   },
   {
    "duration": 11,
    "start_time": "2024-06-05T14:37:32.432Z"
   },
   {
    "duration": 13,
    "start_time": "2024-06-05T14:37:32.449Z"
   },
   {
    "duration": 15,
    "start_time": "2024-06-05T14:37:32.465Z"
   },
   {
    "duration": 1030,
    "start_time": "2024-06-05T14:37:32.483Z"
   },
   {
    "duration": 429,
    "start_time": "2024-06-05T14:37:33.516Z"
   },
   {
    "duration": 457,
    "start_time": "2024-06-05T14:37:33.948Z"
   },
   {
    "duration": 24,
    "start_time": "2024-06-05T14:37:34.412Z"
   },
   {
    "duration": 25,
    "start_time": "2024-06-05T14:37:34.439Z"
   },
   {
    "duration": 9,
    "start_time": "2024-06-05T14:37:34.468Z"
   },
   {
    "duration": 6,
    "start_time": "2024-06-05T14:37:34.480Z"
   },
   {
    "duration": 43,
    "start_time": "2024-06-05T14:37:34.492Z"
   },
   {
    "duration": 13,
    "start_time": "2024-06-05T14:37:34.537Z"
   },
   {
    "duration": 11,
    "start_time": "2024-06-05T14:37:34.552Z"
   },
   {
    "duration": 5,
    "start_time": "2024-06-05T14:37:34.632Z"
   },
   {
    "duration": 5,
    "start_time": "2024-06-05T14:38:17.107Z"
   },
   {
    "duration": 5,
    "start_time": "2024-06-05T14:42:18.080Z"
   },
   {
    "duration": 34,
    "start_time": "2024-06-05T14:42:18.089Z"
   },
   {
    "duration": 9,
    "start_time": "2024-06-05T14:42:18.126Z"
   },
   {
    "duration": 8,
    "start_time": "2024-06-05T14:42:18.139Z"
   },
   {
    "duration": 10,
    "start_time": "2024-06-05T14:42:18.149Z"
   },
   {
    "duration": 13,
    "start_time": "2024-06-05T14:42:18.163Z"
   },
   {
    "duration": 896,
    "start_time": "2024-06-05T14:42:18.179Z"
   },
   {
    "duration": 436,
    "start_time": "2024-06-05T14:42:19.079Z"
   },
   {
    "duration": 557,
    "start_time": "2024-06-05T14:42:19.520Z"
   },
   {
    "duration": 17,
    "start_time": "2024-06-05T14:42:20.081Z"
   },
   {
    "duration": 46,
    "start_time": "2024-06-05T14:42:20.101Z"
   },
   {
    "duration": 9,
    "start_time": "2024-06-05T14:42:20.150Z"
   },
   {
    "duration": 6,
    "start_time": "2024-06-05T14:42:20.162Z"
   },
   {
    "duration": 7,
    "start_time": "2024-06-05T14:42:20.172Z"
   },
   {
    "duration": 68,
    "start_time": "2024-06-05T14:42:20.183Z"
   },
   {
    "duration": 80,
    "start_time": "2024-06-05T14:42:20.255Z"
   },
   {
    "duration": 8,
    "start_time": "2024-06-05T14:42:20.339Z"
   },
   {
    "duration": 82,
    "start_time": "2024-06-05T14:42:20.350Z"
   },
   {
    "duration": 8,
    "start_time": "2024-06-05T14:42:20.436Z"
   },
   {
    "duration": 24,
    "start_time": "2024-06-05T14:51:12.533Z"
   },
   {
    "duration": 36,
    "start_time": "2024-06-05T14:51:12.563Z"
   },
   {
    "duration": 37,
    "start_time": "2024-06-05T14:51:12.602Z"
   },
   {
    "duration": 16,
    "start_time": "2024-06-05T14:51:12.648Z"
   },
   {
    "duration": 19,
    "start_time": "2024-06-05T14:51:12.668Z"
   },
   {
    "duration": 14,
    "start_time": "2024-06-05T14:51:12.692Z"
   },
   {
    "duration": 1002,
    "start_time": "2024-06-05T14:51:12.709Z"
   },
   {
    "duration": 399,
    "start_time": "2024-06-05T14:51:13.714Z"
   },
   {
    "duration": 455,
    "start_time": "2024-06-05T14:51:14.116Z"
   },
   {
    "duration": 17,
    "start_time": "2024-06-05T14:51:14.578Z"
   },
   {
    "duration": 48,
    "start_time": "2024-06-05T14:51:14.598Z"
   },
   {
    "duration": 10,
    "start_time": "2024-06-05T14:51:14.650Z"
   },
   {
    "duration": 7,
    "start_time": "2024-06-05T14:51:14.663Z"
   },
   {
    "duration": 7,
    "start_time": "2024-06-05T14:51:14.674Z"
   },
   {
    "duration": 59,
    "start_time": "2024-06-05T14:51:14.684Z"
   },
   {
    "duration": 10,
    "start_time": "2024-06-05T14:51:14.748Z"
   },
   {
    "duration": 16,
    "start_time": "2024-06-05T14:51:14.834Z"
   },
   {
    "duration": 81,
    "start_time": "2024-06-05T14:51:14.857Z"
   },
   {
    "duration": 0,
    "start_time": "2024-06-05T14:51:14.941Z"
   },
   {
    "duration": 0,
    "start_time": "2024-06-05T14:51:14.944Z"
   },
   {
    "duration": 0,
    "start_time": "2024-06-05T14:51:14.947Z"
   },
   {
    "duration": 0,
    "start_time": "2024-06-05T14:51:14.950Z"
   },
   {
    "duration": 4,
    "start_time": "2024-06-05T14:51:34.015Z"
   },
   {
    "duration": 42,
    "start_time": "2024-06-05T14:51:34.027Z"
   },
   {
    "duration": 10,
    "start_time": "2024-06-05T14:51:34.074Z"
   },
   {
    "duration": 10,
    "start_time": "2024-06-05T14:51:34.087Z"
   },
   {
    "duration": 39,
    "start_time": "2024-06-05T14:51:34.100Z"
   },
   {
    "duration": 13,
    "start_time": "2024-06-05T14:51:34.146Z"
   },
   {
    "duration": 906,
    "start_time": "2024-06-05T14:51:34.162Z"
   },
   {
    "duration": 417,
    "start_time": "2024-06-05T14:51:35.072Z"
   },
   {
    "duration": 457,
    "start_time": "2024-06-05T14:51:35.493Z"
   },
   {
    "duration": 29,
    "start_time": "2024-06-05T14:51:35.958Z"
   },
   {
    "duration": 45,
    "start_time": "2024-06-05T14:51:35.990Z"
   },
   {
    "duration": 13,
    "start_time": "2024-06-05T14:51:36.039Z"
   },
   {
    "duration": 6,
    "start_time": "2024-06-05T14:51:36.056Z"
   },
   {
    "duration": 8,
    "start_time": "2024-06-05T14:51:36.067Z"
   },
   {
    "duration": 67,
    "start_time": "2024-06-05T14:51:36.081Z"
   },
   {
    "duration": 80,
    "start_time": "2024-06-05T14:51:36.152Z"
   },
   {
    "duration": 11,
    "start_time": "2024-06-05T14:51:36.237Z"
   },
   {
    "duration": 500,
    "start_time": "2024-06-05T14:51:36.252Z"
   },
   {
    "duration": 100,
    "start_time": "2024-06-05T14:51:36.831Z"
   },
   {
    "duration": 143,
    "start_time": "2024-06-05T14:51:36.933Z"
   },
   {
    "duration": 0,
    "start_time": "2024-06-05T14:51:37.079Z"
   },
   {
    "duration": 0,
    "start_time": "2024-06-05T14:51:37.083Z"
   },
   {
    "duration": 5,
    "start_time": "2024-06-05T14:52:47.098Z"
   },
   {
    "duration": 6,
    "start_time": "2024-06-05T14:52:47.935Z"
   },
   {
    "duration": 8,
    "start_time": "2024-06-05T14:53:07.759Z"
   },
   {
    "duration": 49,
    "start_time": "2024-06-05T14:53:07.771Z"
   },
   {
    "duration": 10,
    "start_time": "2024-06-05T14:53:07.823Z"
   },
   {
    "duration": 9,
    "start_time": "2024-06-05T14:53:07.837Z"
   },
   {
    "duration": 11,
    "start_time": "2024-06-05T14:53:07.850Z"
   },
   {
    "duration": 13,
    "start_time": "2024-06-05T14:53:07.864Z"
   },
   {
    "duration": 938,
    "start_time": "2024-06-05T14:53:07.882Z"
   },
   {
    "duration": 427,
    "start_time": "2024-06-05T14:53:08.832Z"
   },
   {
    "duration": 474,
    "start_time": "2024-06-05T14:53:09.263Z"
   },
   {
    "duration": 17,
    "start_time": "2024-06-05T14:53:09.744Z"
   },
   {
    "duration": 28,
    "start_time": "2024-06-05T14:53:09.766Z"
   },
   {
    "duration": 38,
    "start_time": "2024-06-05T14:53:09.798Z"
   },
   {
    "duration": 10,
    "start_time": "2024-06-05T14:53:09.839Z"
   },
   {
    "duration": 7,
    "start_time": "2024-06-05T14:53:09.852Z"
   },
   {
    "duration": 15,
    "start_time": "2024-06-05T14:53:09.862Z"
   },
   {
    "duration": 7,
    "start_time": "2024-06-05T14:53:09.932Z"
   },
   {
    "duration": 7,
    "start_time": "2024-06-05T14:53:09.943Z"
   },
   {
    "duration": 980,
    "start_time": "2024-06-05T14:53:09.954Z"
   },
   {
    "duration": 99,
    "start_time": "2024-06-05T14:53:10.940Z"
   },
   {
    "duration": 10,
    "start_time": "2024-06-05T14:53:11.045Z"
   },
   {
    "duration": 10,
    "start_time": "2024-06-05T14:53:11.137Z"
   },
   {
    "duration": 4,
    "start_time": "2024-06-05T14:56:40.453Z"
   },
   {
    "duration": 36,
    "start_time": "2024-06-05T14:56:40.462Z"
   },
   {
    "duration": 10,
    "start_time": "2024-06-05T14:56:40.501Z"
   },
   {
    "duration": 22,
    "start_time": "2024-06-05T14:56:40.513Z"
   },
   {
    "duration": 8,
    "start_time": "2024-06-05T14:56:40.540Z"
   },
   {
    "duration": 11,
    "start_time": "2024-06-05T14:56:40.552Z"
   },
   {
    "duration": 1067,
    "start_time": "2024-06-05T14:56:40.566Z"
   },
   {
    "duration": 402,
    "start_time": "2024-06-05T14:56:41.637Z"
   },
   {
    "duration": 432,
    "start_time": "2024-06-05T14:56:42.042Z"
   },
   {
    "duration": 14,
    "start_time": "2024-06-05T14:56:42.478Z"
   },
   {
    "duration": 45,
    "start_time": "2024-06-05T14:56:42.495Z"
   },
   {
    "duration": 9,
    "start_time": "2024-06-05T14:56:42.543Z"
   },
   {
    "duration": 4,
    "start_time": "2024-06-05T14:56:42.558Z"
   },
   {
    "duration": 6,
    "start_time": "2024-06-05T14:56:42.566Z"
   },
   {
    "duration": 72,
    "start_time": "2024-06-05T14:56:42.575Z"
   },
   {
    "duration": 5,
    "start_time": "2024-06-05T14:56:42.649Z"
   },
   {
    "duration": 81,
    "start_time": "2024-06-05T14:56:42.656Z"
   },
   {
    "duration": 910,
    "start_time": "2024-06-05T14:56:42.742Z"
   },
   {
    "duration": 193,
    "start_time": "2024-06-05T14:56:43.655Z"
   },
   {
    "duration": 0,
    "start_time": "2024-06-05T14:56:43.851Z"
   },
   {
    "duration": 0,
    "start_time": "2024-06-05T14:56:43.852Z"
   },
   {
    "duration": 131,
    "start_time": "2024-06-05T14:58:58.898Z"
   },
   {
    "duration": 6,
    "start_time": "2024-06-05T15:08:30.467Z"
   },
   {
    "duration": 31,
    "start_time": "2024-06-05T15:08:30.498Z"
   },
   {
    "duration": 10,
    "start_time": "2024-06-05T15:08:30.534Z"
   },
   {
    "duration": 9,
    "start_time": "2024-06-05T15:08:30.546Z"
   },
   {
    "duration": 9,
    "start_time": "2024-06-05T15:08:30.559Z"
   },
   {
    "duration": 10,
    "start_time": "2024-06-05T15:08:30.575Z"
   },
   {
    "duration": 890,
    "start_time": "2024-06-05T15:08:30.587Z"
   },
   {
    "duration": 404,
    "start_time": "2024-06-05T15:08:31.481Z"
   },
   {
    "duration": 463,
    "start_time": "2024-06-05T15:08:31.889Z"
   },
   {
    "duration": 15,
    "start_time": "2024-06-05T15:08:32.355Z"
   },
   {
    "duration": 24,
    "start_time": "2024-06-05T15:08:32.373Z"
   },
   {
    "duration": 35,
    "start_time": "2024-06-05T15:08:32.401Z"
   },
   {
    "duration": 5,
    "start_time": "2024-06-05T15:08:32.441Z"
   },
   {
    "duration": 6,
    "start_time": "2024-06-05T15:08:32.449Z"
   },
   {
    "duration": 71,
    "start_time": "2024-06-05T15:08:32.462Z"
   },
   {
    "duration": 9,
    "start_time": "2024-06-05T15:08:32.538Z"
   },
   {
    "duration": 78,
    "start_time": "2024-06-05T15:08:32.551Z"
   },
   {
    "duration": 898,
    "start_time": "2024-06-05T15:08:32.635Z"
   },
   {
    "duration": 192,
    "start_time": "2024-06-05T15:08:33.541Z"
   },
   {
    "duration": 0,
    "start_time": "2024-06-05T15:08:33.736Z"
   },
   {
    "duration": 0,
    "start_time": "2024-06-05T15:08:33.738Z"
   },
   {
    "duration": 44,
    "start_time": "2024-06-05T15:11:43.896Z"
   },
   {
    "duration": 6,
    "start_time": "2024-06-05T15:17:22.111Z"
   },
   {
    "duration": 43,
    "start_time": "2024-06-05T15:17:22.122Z"
   },
   {
    "duration": 10,
    "start_time": "2024-06-05T15:17:22.169Z"
   },
   {
    "duration": 9,
    "start_time": "2024-06-05T15:17:22.184Z"
   },
   {
    "duration": 47,
    "start_time": "2024-06-05T15:17:22.197Z"
   },
   {
    "duration": 15,
    "start_time": "2024-06-05T15:17:22.247Z"
   },
   {
    "duration": 911,
    "start_time": "2024-06-05T15:17:22.266Z"
   },
   {
    "duration": 484,
    "start_time": "2024-06-05T15:17:23.181Z"
   },
   {
    "duration": 425,
    "start_time": "2024-06-05T15:17:23.668Z"
   },
   {
    "duration": 32,
    "start_time": "2024-06-05T15:17:24.099Z"
   },
   {
    "duration": 34,
    "start_time": "2024-06-05T15:17:24.135Z"
   },
   {
    "duration": 18,
    "start_time": "2024-06-05T15:17:24.173Z"
   },
   {
    "duration": 5,
    "start_time": "2024-06-05T15:17:24.196Z"
   },
   {
    "duration": 28,
    "start_time": "2024-06-05T15:17:24.205Z"
   },
   {
    "duration": 20,
    "start_time": "2024-06-05T15:17:24.237Z"
   },
   {
    "duration": 7,
    "start_time": "2024-06-05T15:17:24.260Z"
   },
   {
    "duration": 58,
    "start_time": "2024-06-05T15:17:24.274Z"
   },
   {
    "duration": 828,
    "start_time": "2024-06-05T15:17:24.336Z"
   },
   {
    "duration": 117,
    "start_time": "2024-06-05T15:17:25.236Z"
   },
   {
    "duration": 0,
    "start_time": "2024-06-05T15:17:25.357Z"
   },
   {
    "duration": 0,
    "start_time": "2024-06-05T15:17:25.360Z"
   },
   {
    "duration": 153,
    "start_time": "2024-06-05T15:18:55.177Z"
   },
   {
    "duration": 5,
    "start_time": "2024-06-05T15:18:57.879Z"
   },
   {
    "duration": 36,
    "start_time": "2024-06-05T15:18:57.890Z"
   },
   {
    "duration": 10,
    "start_time": "2024-06-05T15:18:57.931Z"
   },
   {
    "duration": 9,
    "start_time": "2024-06-05T15:18:57.945Z"
   },
   {
    "duration": 10,
    "start_time": "2024-06-05T15:18:57.958Z"
   },
   {
    "duration": 14,
    "start_time": "2024-06-05T15:18:57.975Z"
   },
   {
    "duration": 920,
    "start_time": "2024-06-05T15:18:58.030Z"
   },
   {
    "duration": 413,
    "start_time": "2024-06-05T15:18:58.953Z"
   },
   {
    "duration": 461,
    "start_time": "2024-06-05T15:18:59.369Z"
   },
   {
    "duration": 17,
    "start_time": "2024-06-05T15:18:59.833Z"
   },
   {
    "duration": 24,
    "start_time": "2024-06-05T15:18:59.854Z"
   },
   {
    "duration": 10,
    "start_time": "2024-06-05T15:18:59.881Z"
   },
   {
    "duration": 6,
    "start_time": "2024-06-05T15:18:59.933Z"
   },
   {
    "duration": 8,
    "start_time": "2024-06-05T15:18:59.942Z"
   },
   {
    "duration": 22,
    "start_time": "2024-06-05T15:18:59.958Z"
   },
   {
    "duration": 56,
    "start_time": "2024-06-05T15:18:59.982Z"
   },
   {
    "duration": 8,
    "start_time": "2024-06-05T15:19:00.042Z"
   },
   {
    "duration": 880,
    "start_time": "2024-06-05T15:19:00.053Z"
   },
   {
    "duration": 209,
    "start_time": "2024-06-05T15:19:00.936Z"
   },
   {
    "duration": 75,
    "start_time": "2024-06-05T15:19:01.155Z"
   },
   {
    "duration": 6,
    "start_time": "2024-06-05T15:19:01.234Z"
   },
   {
    "duration": 40,
    "start_time": "2024-06-05T15:26:54.012Z"
   },
   {
    "duration": 34,
    "start_time": "2024-06-05T15:26:54.056Z"
   },
   {
    "duration": 9,
    "start_time": "2024-06-05T15:26:54.094Z"
   },
   {
    "duration": 25,
    "start_time": "2024-06-05T15:26:54.108Z"
   },
   {
    "duration": 11,
    "start_time": "2024-06-05T15:26:54.137Z"
   },
   {
    "duration": 17,
    "start_time": "2024-06-05T15:26:54.151Z"
   },
   {
    "duration": 1175,
    "start_time": "2024-06-05T15:26:54.172Z"
   },
   {
    "duration": 412,
    "start_time": "2024-06-05T15:26:55.351Z"
   },
   {
    "duration": 466,
    "start_time": "2024-06-05T15:26:55.767Z"
   },
   {
    "duration": 17,
    "start_time": "2024-06-05T15:26:56.241Z"
   },
   {
    "duration": 25,
    "start_time": "2024-06-05T15:26:56.262Z"
   },
   {
    "duration": 48,
    "start_time": "2024-06-05T15:26:56.290Z"
   },
   {
    "duration": 6,
    "start_time": "2024-06-05T15:26:56.341Z"
   },
   {
    "duration": 7,
    "start_time": "2024-06-05T15:26:56.350Z"
   },
   {
    "duration": 71,
    "start_time": "2024-06-05T15:26:56.360Z"
   },
   {
    "duration": 11,
    "start_time": "2024-06-05T15:26:56.438Z"
   },
   {
    "duration": 826,
    "start_time": "2024-06-05T15:26:56.454Z"
   },
   {
    "duration": 9,
    "start_time": "2024-06-05T15:26:57.283Z"
   },
   {
    "duration": 1443,
    "start_time": "2024-06-05T15:26:57.295Z"
   },
   {
    "duration": 115,
    "start_time": "2024-06-05T15:26:58.745Z"
   },
   {
    "duration": 9,
    "start_time": "2024-06-05T15:26:58.932Z"
   },
   {
    "duration": 12,
    "start_time": "2024-06-05T15:26:58.948Z"
   },
   {
    "duration": 6,
    "start_time": "2024-06-05T15:34:16.733Z"
   },
   {
    "duration": 36,
    "start_time": "2024-06-05T15:34:16.744Z"
   },
   {
    "duration": 10,
    "start_time": "2024-06-05T15:34:16.782Z"
   },
   {
    "duration": 40,
    "start_time": "2024-06-05T15:34:16.795Z"
   },
   {
    "duration": 9,
    "start_time": "2024-06-05T15:34:16.838Z"
   },
   {
    "duration": 12,
    "start_time": "2024-06-05T15:34:16.850Z"
   },
   {
    "duration": 853,
    "start_time": "2024-06-05T15:34:16.864Z"
   },
   {
    "duration": 396,
    "start_time": "2024-06-05T15:34:17.720Z"
   },
   {
    "duration": 403,
    "start_time": "2024-06-05T15:34:18.119Z"
   },
   {
    "duration": 17,
    "start_time": "2024-06-05T15:34:18.534Z"
   },
   {
    "duration": 20,
    "start_time": "2024-06-05T15:34:18.554Z"
   },
   {
    "duration": 9,
    "start_time": "2024-06-05T15:34:18.578Z"
   },
   {
    "duration": 43,
    "start_time": "2024-06-05T15:34:18.590Z"
   },
   {
    "duration": 7,
    "start_time": "2024-06-05T15:34:18.636Z"
   },
   {
    "duration": 18,
    "start_time": "2024-06-05T15:34:18.647Z"
   },
   {
    "duration": 66,
    "start_time": "2024-06-05T15:34:18.668Z"
   },
   {
    "duration": 4722,
    "start_time": "2024-06-05T15:34:18.737Z"
   },
   {
    "duration": 17,
    "start_time": "2024-06-05T15:34:23.461Z"
   },
   {
    "duration": 6,
    "start_time": "2024-06-05T15:34:23.481Z"
   },
   {
    "duration": 763,
    "start_time": "2024-06-05T15:34:23.490Z"
   },
   {
    "duration": 107,
    "start_time": "2024-06-05T15:34:24.332Z"
   },
   {
    "duration": 5,
    "start_time": "2024-06-05T15:34:24.442Z"
   },
   {
    "duration": 82,
    "start_time": "2024-06-05T15:34:24.452Z"
   },
   {
    "duration": 5,
    "start_time": "2024-06-05T15:35:28.748Z"
   },
   {
    "duration": 33,
    "start_time": "2024-06-05T15:35:28.757Z"
   },
   {
    "duration": 10,
    "start_time": "2024-06-05T15:35:28.793Z"
   },
   {
    "duration": 28,
    "start_time": "2024-06-05T15:35:28.807Z"
   },
   {
    "duration": 9,
    "start_time": "2024-06-05T15:35:28.839Z"
   },
   {
    "duration": 13,
    "start_time": "2024-06-05T15:35:28.851Z"
   },
   {
    "duration": 861,
    "start_time": "2024-06-05T15:35:28.868Z"
   },
   {
    "duration": 389,
    "start_time": "2024-06-05T15:35:29.732Z"
   },
   {
    "duration": 399,
    "start_time": "2024-06-05T15:35:30.131Z"
   },
   {
    "duration": 19,
    "start_time": "2024-06-05T15:35:30.534Z"
   },
   {
    "duration": 22,
    "start_time": "2024-06-05T15:35:30.556Z"
   },
   {
    "duration": 10,
    "start_time": "2024-06-05T15:35:30.581Z"
   },
   {
    "duration": 5,
    "start_time": "2024-06-05T15:35:30.630Z"
   },
   {
    "duration": 7,
    "start_time": "2024-06-05T15:35:30.638Z"
   },
   {
    "duration": 84,
    "start_time": "2024-06-05T15:35:30.648Z"
   },
   {
    "duration": 6,
    "start_time": "2024-06-05T15:35:30.735Z"
   },
   {
    "duration": 15408,
    "start_time": "2024-06-05T15:35:30.744Z"
   },
   {
    "duration": 21,
    "start_time": "2024-06-05T15:35:46.155Z"
   },
   {
    "duration": 5,
    "start_time": "2024-06-05T15:35:46.179Z"
   },
   {
    "duration": 844,
    "start_time": "2024-06-05T15:35:46.187Z"
   },
   {
    "duration": 112,
    "start_time": "2024-06-05T15:35:47.034Z"
   },
   {
    "duration": 83,
    "start_time": "2024-06-05T15:35:47.148Z"
   },
   {
    "duration": 7,
    "start_time": "2024-06-05T15:35:47.234Z"
   },
   {
    "duration": 5,
    "start_time": "2024-06-05T15:39:59.361Z"
   },
   {
    "duration": 35,
    "start_time": "2024-06-05T15:39:59.369Z"
   },
   {
    "duration": 9,
    "start_time": "2024-06-05T15:39:59.407Z"
   },
   {
    "duration": 17,
    "start_time": "2024-06-05T15:39:59.419Z"
   },
   {
    "duration": 12,
    "start_time": "2024-06-05T15:39:59.441Z"
   },
   {
    "duration": 13,
    "start_time": "2024-06-05T15:39:59.456Z"
   },
   {
    "duration": 846,
    "start_time": "2024-06-05T15:39:59.471Z"
   },
   {
    "duration": 412,
    "start_time": "2024-06-05T15:40:00.320Z"
   },
   {
    "duration": 398,
    "start_time": "2024-06-05T15:40:00.738Z"
   },
   {
    "duration": 6,
    "start_time": "2024-06-05T15:40:01.139Z"
   },
   {
    "duration": 15,
    "start_time": "2024-06-05T15:40:01.149Z"
   },
   {
    "duration": 21,
    "start_time": "2024-06-05T15:40:01.167Z"
   },
   {
    "duration": 43,
    "start_time": "2024-06-05T15:40:01.193Z"
   },
   {
    "duration": 6,
    "start_time": "2024-06-05T15:40:01.238Z"
   },
   {
    "duration": 7,
    "start_time": "2024-06-05T15:40:01.248Z"
   },
   {
    "duration": 74,
    "start_time": "2024-06-05T15:40:01.259Z"
   },
   {
    "duration": 10,
    "start_time": "2024-06-05T15:40:01.336Z"
   },
   {
    "duration": 34371,
    "start_time": "2024-06-05T15:40:01.349Z"
   },
   {
    "duration": 29,
    "start_time": "2024-06-05T15:40:35.724Z"
   },
   {
    "duration": 6,
    "start_time": "2024-06-05T15:40:35.756Z"
   },
   {
    "duration": 864,
    "start_time": "2024-06-05T15:40:35.765Z"
   },
   {
    "duration": 115,
    "start_time": "2024-06-05T15:40:36.632Z"
   },
   {
    "duration": 82,
    "start_time": "2024-06-05T15:40:36.749Z"
   },
   {
    "duration": 7,
    "start_time": "2024-06-05T15:40:36.834Z"
   },
   {
    "duration": 5,
    "start_time": "2024-06-05T15:40:56.125Z"
   },
   {
    "duration": 34,
    "start_time": "2024-06-05T15:40:56.135Z"
   },
   {
    "duration": 8,
    "start_time": "2024-06-05T15:40:56.172Z"
   },
   {
    "duration": 8,
    "start_time": "2024-06-05T15:40:56.185Z"
   },
   {
    "duration": 9,
    "start_time": "2024-06-05T15:40:56.232Z"
   },
   {
    "duration": 13,
    "start_time": "2024-06-05T15:40:56.243Z"
   },
   {
    "duration": 870,
    "start_time": "2024-06-05T15:40:56.260Z"
   },
   {
    "duration": 672,
    "start_time": "2024-06-05T15:40:57.134Z"
   },
   {
    "duration": 397,
    "start_time": "2024-06-05T15:40:57.811Z"
   },
   {
    "duration": 27,
    "start_time": "2024-06-05T15:40:58.212Z"
   },
   {
    "duration": 22,
    "start_time": "2024-06-05T15:40:58.241Z"
   },
   {
    "duration": 10,
    "start_time": "2024-06-05T15:40:58.266Z"
   },
   {
    "duration": 6,
    "start_time": "2024-06-05T15:40:58.279Z"
   },
   {
    "duration": 47,
    "start_time": "2024-06-05T15:40:58.288Z"
   },
   {
    "duration": 18,
    "start_time": "2024-06-05T15:40:58.338Z"
   },
   {
    "duration": 72,
    "start_time": "2024-06-05T15:40:58.360Z"
   },
   {
    "duration": 35583,
    "start_time": "2024-06-05T15:40:58.434Z"
   },
   {
    "duration": 27,
    "start_time": "2024-06-05T15:41:34.020Z"
   },
   {
    "duration": 8,
    "start_time": "2024-06-05T15:41:34.049Z"
   },
   {
    "duration": 787,
    "start_time": "2024-06-05T15:41:34.060Z"
   },
   {
    "duration": 190,
    "start_time": "2024-06-05T15:41:34.850Z"
   },
   {
    "duration": 10,
    "start_time": "2024-06-05T15:41:35.043Z"
   },
   {
    "duration": 6,
    "start_time": "2024-06-05T15:41:35.132Z"
   },
   {
    "duration": 5522,
    "start_time": "2024-06-06T02:34:58.791Z"
   },
   {
    "duration": 58,
    "start_time": "2024-06-06T02:35:04.318Z"
   },
   {
    "duration": 12,
    "start_time": "2024-06-06T02:35:04.380Z"
   },
   {
    "duration": 18,
    "start_time": "2024-06-06T02:35:04.395Z"
   },
   {
    "duration": 14,
    "start_time": "2024-06-06T02:35:04.419Z"
   },
   {
    "duration": 12,
    "start_time": "2024-06-06T02:35:04.436Z"
   },
   {
    "duration": 1074,
    "start_time": "2024-06-06T02:35:04.451Z"
   },
   {
    "duration": 407,
    "start_time": "2024-06-06T02:35:05.528Z"
   },
   {
    "duration": 450,
    "start_time": "2024-06-06T02:35:05.939Z"
   },
   {
    "duration": 31,
    "start_time": "2024-06-06T02:35:06.393Z"
   },
   {
    "duration": 23,
    "start_time": "2024-06-06T02:35:06.427Z"
   },
   {
    "duration": 11,
    "start_time": "2024-06-06T02:35:06.454Z"
   },
   {
    "duration": 45,
    "start_time": "2024-06-06T02:35:06.468Z"
   },
   {
    "duration": 7,
    "start_time": "2024-06-06T02:35:06.520Z"
   },
   {
    "duration": 81,
    "start_time": "2024-06-06T02:35:06.530Z"
   },
   {
    "duration": 8,
    "start_time": "2024-06-06T02:35:06.614Z"
   },
   {
    "duration": 36625,
    "start_time": "2024-06-06T02:35:06.627Z"
   },
   {
    "duration": 24,
    "start_time": "2024-06-06T02:35:43.257Z"
   },
   {
    "duration": 30,
    "start_time": "2024-06-06T02:35:43.284Z"
   },
   {
    "duration": 916,
    "start_time": "2024-06-06T02:35:43.318Z"
   },
   {
    "duration": 276,
    "start_time": "2024-06-06T02:35:44.237Z"
   },
   {
    "duration": 1016,
    "start_time": "2024-06-06T02:35:44.516Z"
   },
   {
    "duration": 77,
    "start_time": "2024-06-06T02:35:45.537Z"
   },
   {
    "duration": 11,
    "start_time": "2024-06-06T02:35:45.619Z"
   },
   {
    "duration": 564,
    "start_time": "2024-06-06T02:37:28.447Z"
   },
   {
    "duration": 349,
    "start_time": "2024-06-06T02:38:04.134Z"
   },
   {
    "duration": 426,
    "start_time": "2024-06-06T02:38:16.435Z"
   },
   {
    "duration": 891,
    "start_time": "2024-06-06T02:38:54.741Z"
   },
   {
    "duration": 36,
    "start_time": "2024-06-06T02:43:35.005Z"
   },
   {
    "duration": 67,
    "start_time": "2024-06-06T02:43:35.045Z"
   },
   {
    "duration": 11,
    "start_time": "2024-06-06T02:43:35.115Z"
   },
   {
    "duration": 12,
    "start_time": "2024-06-06T02:43:35.130Z"
   },
   {
    "duration": 11,
    "start_time": "2024-06-06T02:43:35.149Z"
   },
   {
    "duration": 49,
    "start_time": "2024-06-06T02:43:35.164Z"
   },
   {
    "duration": 936,
    "start_time": "2024-06-06T02:43:35.216Z"
   },
   {
    "duration": 434,
    "start_time": "2024-06-06T02:43:36.155Z"
   },
   {
    "duration": 440,
    "start_time": "2024-06-06T02:43:36.592Z"
   },
   {
    "duration": 17,
    "start_time": "2024-06-06T02:43:37.035Z"
   },
   {
    "duration": 27,
    "start_time": "2024-06-06T02:43:37.055Z"
   },
   {
    "duration": 36,
    "start_time": "2024-06-06T02:43:37.085Z"
   },
   {
    "duration": 5,
    "start_time": "2024-06-06T02:43:37.125Z"
   },
   {
    "duration": 7,
    "start_time": "2024-06-06T02:43:37.137Z"
   },
   {
    "duration": 85,
    "start_time": "2024-06-06T02:43:37.147Z"
   },
   {
    "duration": 82,
    "start_time": "2024-06-06T02:43:37.236Z"
   },
   {
    "duration": 36654,
    "start_time": "2024-06-06T02:43:37.327Z"
   },
   {
    "duration": 50,
    "start_time": "2024-06-06T02:44:13.984Z"
   },
   {
    "duration": 1294,
    "start_time": "2024-06-06T02:44:14.038Z"
   },
   {
    "duration": 279,
    "start_time": "2024-06-06T02:44:15.334Z"
   },
   {
    "duration": 907,
    "start_time": "2024-06-06T02:44:15.617Z"
   },
   {
    "duration": 8,
    "start_time": "2024-06-06T02:44:16.527Z"
   },
   {
    "duration": 74,
    "start_time": "2024-06-06T02:44:16.539Z"
   },
   {
    "duration": 7,
    "start_time": "2024-06-06T02:48:45.865Z"
   },
   {
    "duration": 36,
    "start_time": "2024-06-06T02:48:45.881Z"
   },
   {
    "duration": 9,
    "start_time": "2024-06-06T02:48:45.921Z"
   },
   {
    "duration": 9,
    "start_time": "2024-06-06T02:48:45.933Z"
   },
   {
    "duration": 10,
    "start_time": "2024-06-06T02:48:45.945Z"
   },
   {
    "duration": 16,
    "start_time": "2024-06-06T02:48:45.961Z"
   },
   {
    "duration": 1035,
    "start_time": "2024-06-06T02:48:46.013Z"
   },
   {
    "duration": 440,
    "start_time": "2024-06-06T02:48:47.051Z"
   },
   {
    "duration": 443,
    "start_time": "2024-06-06T02:48:47.495Z"
   },
   {
    "duration": 19,
    "start_time": "2024-06-06T02:48:47.943Z"
   },
   {
    "duration": 48,
    "start_time": "2024-06-06T02:48:47.965Z"
   },
   {
    "duration": 11,
    "start_time": "2024-06-06T02:48:48.016Z"
   },
   {
    "duration": 8,
    "start_time": "2024-06-06T02:48:48.032Z"
   },
   {
    "duration": 8,
    "start_time": "2024-06-06T02:48:48.043Z"
   },
   {
    "duration": 66,
    "start_time": "2024-06-06T02:48:48.058Z"
   },
   {
    "duration": 11,
    "start_time": "2024-06-06T02:48:48.130Z"
   },
   {
    "duration": 1374,
    "start_time": "2024-06-06T02:48:48.145Z"
   },
   {
    "duration": 0,
    "start_time": "2024-06-06T02:48:49.523Z"
   },
   {
    "duration": 2547,
    "start_time": "2024-06-06T02:49:00.368Z"
   },
   {
    "duration": 6,
    "start_time": "2024-06-06T02:49:05.492Z"
   },
   {
    "duration": 86166,
    "start_time": "2024-06-06T02:50:03.518Z"
   },
   {
    "duration": 44487,
    "start_time": "2024-06-06T02:53:27.007Z"
   },
   {
    "duration": 36166,
    "start_time": "2024-06-06T02:54:17.533Z"
   },
   {
    "duration": 18,
    "start_time": "2024-06-06T02:55:00.160Z"
   },
   {
    "duration": 10,
    "start_time": "2024-06-06T02:55:01.560Z"
   },
   {
    "duration": 30,
    "start_time": "2024-06-06T02:59:12.952Z"
   },
   {
    "duration": 251,
    "start_time": "2024-06-06T02:59:21.725Z"
   },
   {
    "duration": 49464,
    "start_time": "2024-06-06T02:59:29.548Z"
   },
   {
    "duration": 31,
    "start_time": "2024-06-06T03:02:32.711Z"
   },
   {
    "duration": 28,
    "start_time": "2024-06-06T03:02:44.316Z"
   },
   {
    "duration": 6,
    "start_time": "2024-06-06T03:03:29.570Z"
   },
   {
    "duration": 42,
    "start_time": "2024-06-06T03:03:29.581Z"
   },
   {
    "duration": 13,
    "start_time": "2024-06-06T03:03:29.629Z"
   },
   {
    "duration": 18,
    "start_time": "2024-06-06T03:03:29.648Z"
   },
   {
    "duration": 13,
    "start_time": "2024-06-06T03:03:29.671Z"
   },
   {
    "duration": 33,
    "start_time": "2024-06-06T03:03:29.689Z"
   },
   {
    "duration": 940,
    "start_time": "2024-06-06T03:03:29.726Z"
   },
   {
    "duration": 448,
    "start_time": "2024-06-06T03:03:30.671Z"
   },
   {
    "duration": 450,
    "start_time": "2024-06-06T03:03:31.123Z"
   },
   {
    "duration": 37,
    "start_time": "2024-06-06T03:03:31.576Z"
   },
   {
    "duration": 28,
    "start_time": "2024-06-06T03:03:31.619Z"
   },
   {
    "duration": 12,
    "start_time": "2024-06-06T03:03:31.650Z"
   },
   {
    "duration": 6,
    "start_time": "2024-06-06T03:03:31.666Z"
   },
   {
    "duration": 7,
    "start_time": "2024-06-06T03:03:31.712Z"
   },
   {
    "duration": 34,
    "start_time": "2024-06-06T03:03:31.722Z"
   },
   {
    "duration": 7,
    "start_time": "2024-06-06T03:03:31.813Z"
   },
   {
    "duration": 57067,
    "start_time": "2024-06-06T03:03:31.822Z"
   },
   {
    "duration": 18,
    "start_time": "2024-06-06T03:04:28.897Z"
   },
   {
    "duration": 6,
    "start_time": "2024-06-06T03:04:28.918Z"
   },
   {
    "duration": 145369,
    "start_time": "2024-06-06T03:04:28.927Z"
   },
   {
    "duration": 32,
    "start_time": "2024-06-06T03:06:54.300Z"
   },
   {
    "duration": 6,
    "start_time": "2024-06-06T03:06:54.336Z"
   },
   {
    "duration": 769,
    "start_time": "2024-06-06T03:06:54.346Z"
   },
   {
    "duration": 194,
    "start_time": "2024-06-06T03:06:55.119Z"
   },
   {
    "duration": 910,
    "start_time": "2024-06-06T03:06:55.317Z"
   },
   {
    "duration": 53794,
    "start_time": "2024-06-06T03:06:56.232Z"
   },
   {
    "duration": 103,
    "start_time": "2024-06-06T03:07:50.037Z"
   },
   {
    "duration": 7,
    "start_time": "2024-06-06T03:07:50.144Z"
   },
   {
    "duration": 14,
    "start_time": "2024-06-06T03:07:50.160Z"
   },
   {
    "duration": 6,
    "start_time": "2024-06-06T03:08:28.888Z"
   },
   {
    "duration": 44,
    "start_time": "2024-06-06T03:08:28.899Z"
   },
   {
    "duration": 11,
    "start_time": "2024-06-06T03:08:28.947Z"
   },
   {
    "duration": 9,
    "start_time": "2024-06-06T03:08:28.961Z"
   },
   {
    "duration": 11,
    "start_time": "2024-06-06T03:08:28.975Z"
   },
   {
    "duration": 34,
    "start_time": "2024-06-06T03:08:28.988Z"
   },
   {
    "duration": 1092,
    "start_time": "2024-06-06T03:08:29.024Z"
   },
   {
    "duration": 426,
    "start_time": "2024-06-06T03:08:30.120Z"
   },
   {
    "duration": 465,
    "start_time": "2024-06-06T03:08:30.550Z"
   },
   {
    "duration": 21,
    "start_time": "2024-06-06T03:08:31.018Z"
   },
   {
    "duration": 29,
    "start_time": "2024-06-06T03:08:31.046Z"
   },
   {
    "duration": 37,
    "start_time": "2024-06-06T03:08:31.079Z"
   },
   {
    "duration": 6,
    "start_time": "2024-06-06T03:08:31.120Z"
   },
   {
    "duration": 10,
    "start_time": "2024-06-06T03:08:31.130Z"
   },
   {
    "duration": 71,
    "start_time": "2024-06-06T03:08:31.143Z"
   },
   {
    "duration": 14,
    "start_time": "2024-06-06T03:08:31.216Z"
   },
   {
    "duration": 8,
    "start_time": "2024-06-06T03:08:41.012Z"
   },
   {
    "duration": 42642,
    "start_time": "2024-06-06T03:08:42.672Z"
   },
   {
    "duration": 5889,
    "start_time": "2024-06-06T17:41:36.929Z"
   },
   {
    "duration": 47,
    "start_time": "2024-06-06T17:41:42.823Z"
   },
   {
    "duration": 17,
    "start_time": "2024-06-06T17:41:42.873Z"
   },
   {
    "duration": 926,
    "start_time": "2024-06-06T17:42:31.990Z"
   },
   {
    "duration": 7,
    "start_time": "2024-06-06T17:43:33.647Z"
   },
   {
    "duration": 36,
    "start_time": "2024-06-06T17:43:33.660Z"
   },
   {
    "duration": 11,
    "start_time": "2024-06-06T17:43:33.700Z"
   },
   {
    "duration": 11,
    "start_time": "2024-06-06T17:43:33.731Z"
   },
   {
    "duration": 11,
    "start_time": "2024-06-06T17:43:33.744Z"
   },
   {
    "duration": 12,
    "start_time": "2024-06-06T17:43:33.760Z"
   },
   {
    "duration": 904,
    "start_time": "2024-06-06T17:43:33.775Z"
   },
   {
    "duration": 499,
    "start_time": "2024-06-06T17:43:34.682Z"
   },
   {
    "duration": 424,
    "start_time": "2024-06-06T17:43:35.185Z"
   },
   {
    "duration": 28,
    "start_time": "2024-06-06T17:43:35.612Z"
   },
   {
    "duration": 21,
    "start_time": "2024-06-06T17:43:35.643Z"
   },
   {
    "duration": 17,
    "start_time": "2024-06-06T17:43:35.667Z"
   },
   {
    "duration": 7,
    "start_time": "2024-06-06T17:43:35.687Z"
   },
   {
    "duration": 35,
    "start_time": "2024-06-06T17:43:35.699Z"
   },
   {
    "duration": 52,
    "start_time": "2024-06-06T17:43:35.746Z"
   },
   {
    "duration": 11,
    "start_time": "2024-06-06T17:43:35.832Z"
   },
   {
    "duration": 40950,
    "start_time": "2024-06-06T17:43:35.847Z"
   },
   {
    "duration": 34,
    "start_time": "2024-06-06T17:44:16.800Z"
   },
   {
    "duration": 9,
    "start_time": "2024-06-06T17:44:16.838Z"
   },
   {
    "duration": 102146,
    "start_time": "2024-06-06T17:44:16.850Z"
   },
   {
    "duration": 37,
    "start_time": "2024-06-06T17:45:58.999Z"
   },
   {
    "duration": 5,
    "start_time": "2024-06-06T17:45:59.039Z"
   },
   {
    "duration": 711,
    "start_time": "2024-06-06T17:45:59.047Z"
   },
   {
    "duration": 270,
    "start_time": "2024-06-06T17:45:59.761Z"
   },
   {
    "duration": 504,
    "start_time": "2024-06-06T17:46:00.035Z"
   },
   {
    "duration": 55300,
    "start_time": "2024-06-06T17:46:00.542Z"
   },
   {
    "duration": 99,
    "start_time": "2024-06-06T17:46:55.844Z"
   },
   {
    "duration": 5,
    "start_time": "2024-06-06T17:46:55.947Z"
   },
   {
    "duration": 6,
    "start_time": "2024-06-06T17:46:55.956Z"
   },
   {
    "duration": 6,
    "start_time": "2024-06-06T17:49:25.592Z"
   },
   {
    "duration": 38,
    "start_time": "2024-06-06T17:49:25.602Z"
   },
   {
    "duration": 9,
    "start_time": "2024-06-06T17:49:25.644Z"
   },
   {
    "duration": 8,
    "start_time": "2024-06-06T17:49:25.656Z"
   },
   {
    "duration": 11,
    "start_time": "2024-06-06T17:49:25.668Z"
   },
   {
    "duration": 50,
    "start_time": "2024-06-06T17:49:25.682Z"
   },
   {
    "duration": 882,
    "start_time": "2024-06-06T17:49:25.736Z"
   },
   {
    "duration": 497,
    "start_time": "2024-06-06T17:49:26.621Z"
   },
   {
    "duration": 409,
    "start_time": "2024-06-06T17:49:27.121Z"
   },
   {
    "duration": 26,
    "start_time": "2024-06-06T17:49:27.533Z"
   },
   {
    "duration": 24,
    "start_time": "2024-06-06T17:49:27.564Z"
   },
   {
    "duration": 43,
    "start_time": "2024-06-06T17:49:27.592Z"
   },
   {
    "duration": 13,
    "start_time": "2024-06-06T17:49:27.638Z"
   },
   {
    "duration": 7,
    "start_time": "2024-06-06T17:49:27.657Z"
   },
   {
    "duration": 23,
    "start_time": "2024-06-06T17:49:27.667Z"
   },
   {
    "duration": 8,
    "start_time": "2024-06-06T17:49:27.733Z"
   },
   {
    "duration": 41541,
    "start_time": "2024-06-06T17:49:27.744Z"
   },
   {
    "duration": 9,
    "start_time": "2024-06-06T17:50:09.288Z"
   },
   {
    "duration": 37,
    "start_time": "2024-06-06T17:50:09.299Z"
   },
   {
    "duration": 102086,
    "start_time": "2024-06-06T17:50:09.339Z"
   },
   {
    "duration": 41,
    "start_time": "2024-06-06T17:51:51.436Z"
   },
   {
    "duration": 14,
    "start_time": "2024-06-06T17:51:51.488Z"
   },
   {
    "duration": 1220,
    "start_time": "2024-06-06T17:51:51.512Z"
   },
   {
    "duration": 289,
    "start_time": "2024-06-06T17:51:52.742Z"
   },
   {
    "duration": 947,
    "start_time": "2024-06-06T17:51:53.034Z"
   },
   {
    "duration": 48604,
    "start_time": "2024-06-06T17:51:54.043Z"
   },
   {
    "duration": 98,
    "start_time": "2024-06-06T17:52:42.651Z"
   },
   {
    "duration": 6,
    "start_time": "2024-06-06T17:52:42.752Z"
   },
   {
    "duration": 8,
    "start_time": "2024-06-06T17:52:42.764Z"
   },
   {
    "duration": 11,
    "start_time": "2024-06-06T17:53:50.635Z"
   },
   {
    "duration": 1252,
    "start_time": "2024-06-06T17:53:51.543Z"
   },
   {
    "duration": 11,
    "start_time": "2024-06-06T17:54:29.645Z"
   },
   {
    "duration": 787,
    "start_time": "2024-06-06T17:54:30.310Z"
   },
   {
    "duration": 6,
    "start_time": "2024-06-06T17:55:35.276Z"
   },
   {
    "duration": 38,
    "start_time": "2024-06-06T17:55:35.289Z"
   },
   {
    "duration": 10,
    "start_time": "2024-06-06T17:55:35.330Z"
   },
   {
    "duration": 8,
    "start_time": "2024-06-06T17:55:35.342Z"
   },
   {
    "duration": 9,
    "start_time": "2024-06-06T17:55:35.355Z"
   },
   {
    "duration": 15,
    "start_time": "2024-06-06T17:55:35.366Z"
   },
   {
    "duration": 860,
    "start_time": "2024-06-06T17:55:35.384Z"
   },
   {
    "duration": 525,
    "start_time": "2024-06-06T17:55:36.248Z"
   },
   {
    "duration": 416,
    "start_time": "2024-06-06T17:55:36.778Z"
   },
   {
    "duration": 17,
    "start_time": "2024-06-06T17:55:37.196Z"
   },
   {
    "duration": 19,
    "start_time": "2024-06-06T17:55:37.233Z"
   },
   {
    "duration": 10,
    "start_time": "2024-06-06T17:55:37.256Z"
   },
   {
    "duration": 6,
    "start_time": "2024-06-06T17:55:37.269Z"
   },
   {
    "duration": 8,
    "start_time": "2024-06-06T17:55:37.279Z"
   },
   {
    "duration": 22,
    "start_time": "2024-06-06T17:55:37.331Z"
   },
   {
    "duration": 73,
    "start_time": "2024-06-06T17:55:37.356Z"
   },
   {
    "duration": 29870,
    "start_time": "2024-06-06T17:55:37.433Z"
   },
   {
    "duration": 29,
    "start_time": "2024-06-06T17:56:07.305Z"
   },
   {
    "duration": 8,
    "start_time": "2024-06-06T17:56:07.336Z"
   },
   {
    "duration": 70361,
    "start_time": "2024-06-06T17:56:07.347Z"
   },
   {
    "duration": 31,
    "start_time": "2024-06-06T17:57:17.712Z"
   },
   {
    "duration": 6,
    "start_time": "2024-06-06T17:57:17.746Z"
   },
   {
    "duration": 1092,
    "start_time": "2024-06-06T17:57:17.756Z"
   },
   {
    "duration": 180,
    "start_time": "2024-06-06T17:57:18.854Z"
   },
   {
    "duration": 507,
    "start_time": "2024-06-06T17:57:19.042Z"
   },
   {
    "duration": 51895,
    "start_time": "2024-06-06T17:57:19.558Z"
   },
   {
    "duration": 92,
    "start_time": "2024-06-06T17:58:11.475Z"
   },
   {
    "duration": 5,
    "start_time": "2024-06-06T17:58:11.571Z"
   },
   {
    "duration": 7,
    "start_time": "2024-06-06T17:58:11.585Z"
   },
   {
    "duration": 6,
    "start_time": "2024-06-06T17:58:32.424Z"
   },
   {
    "duration": 46,
    "start_time": "2024-06-06T17:58:32.435Z"
   },
   {
    "duration": 10,
    "start_time": "2024-06-06T17:58:32.485Z"
   },
   {
    "duration": 36,
    "start_time": "2024-06-06T17:58:32.499Z"
   },
   {
    "duration": 13,
    "start_time": "2024-06-06T17:58:32.542Z"
   },
   {
    "duration": 15,
    "start_time": "2024-06-06T17:58:32.559Z"
   },
   {
    "duration": 1034,
    "start_time": "2024-06-06T17:58:32.577Z"
   },
   {
    "duration": 495,
    "start_time": "2024-06-06T17:58:33.614Z"
   },
   {
    "duration": 436,
    "start_time": "2024-06-06T17:58:34.114Z"
   },
   {
    "duration": 19,
    "start_time": "2024-06-06T17:58:34.552Z"
   },
   {
    "duration": 24,
    "start_time": "2024-06-06T17:58:34.574Z"
   },
   {
    "duration": 10,
    "start_time": "2024-06-06T17:58:34.631Z"
   },
   {
    "duration": 6,
    "start_time": "2024-06-06T17:58:34.647Z"
   },
   {
    "duration": 7,
    "start_time": "2024-06-06T17:58:34.656Z"
   },
   {
    "duration": 77,
    "start_time": "2024-06-06T17:58:34.666Z"
   },
   {
    "duration": 11,
    "start_time": "2024-06-06T17:58:34.745Z"
   },
   {
    "duration": 45882,
    "start_time": "2024-06-06T17:58:34.758Z"
   },
   {
    "duration": 9,
    "start_time": "2024-06-06T17:59:20.644Z"
   },
   {
    "duration": 7,
    "start_time": "2024-06-06T17:59:20.656Z"
   },
   {
    "duration": 116066,
    "start_time": "2024-06-06T17:59:20.666Z"
   },
   {
    "duration": 25,
    "start_time": "2024-06-06T18:01:16.734Z"
   },
   {
    "duration": 5,
    "start_time": "2024-06-06T18:01:16.762Z"
   },
   {
    "duration": 1468,
    "start_time": "2024-06-06T18:01:16.770Z"
   },
   {
    "duration": 209,
    "start_time": "2024-06-06T18:01:18.241Z"
   },
   {
    "duration": 598,
    "start_time": "2024-06-06T18:01:18.453Z"
   },
   {
    "duration": 54691,
    "start_time": "2024-06-06T18:01:19.054Z"
   },
   {
    "duration": 94,
    "start_time": "2024-06-06T18:02:13.753Z"
   },
   {
    "duration": 6,
    "start_time": "2024-06-06T18:02:13.850Z"
   },
   {
    "duration": 6,
    "start_time": "2024-06-06T18:02:13.859Z"
   },
   {
    "duration": 7,
    "start_time": "2024-06-06T18:02:46.848Z"
   },
   {
    "duration": 42,
    "start_time": "2024-06-06T18:02:46.859Z"
   },
   {
    "duration": 11,
    "start_time": "2024-06-06T18:02:46.908Z"
   },
   {
    "duration": 13,
    "start_time": "2024-06-06T18:02:46.923Z"
   },
   {
    "duration": 10,
    "start_time": "2024-06-06T18:02:46.940Z"
   },
   {
    "duration": 16,
    "start_time": "2024-06-06T18:02:46.954Z"
   },
   {
    "duration": 1097,
    "start_time": "2024-06-06T18:02:46.973Z"
   },
   {
    "duration": 1482,
    "start_time": "2024-06-06T18:02:48.074Z"
   },
   {
    "duration": 561,
    "start_time": "2024-06-06T18:02:49.560Z"
   },
   {
    "duration": 609,
    "start_time": "2024-06-06T18:02:50.137Z"
   },
   {
    "duration": 20,
    "start_time": "2024-06-06T18:02:50.749Z"
   },
   {
    "duration": 30,
    "start_time": "2024-06-06T18:02:50.776Z"
   },
   {
    "duration": 27,
    "start_time": "2024-06-06T18:02:50.810Z"
   },
   {
    "duration": 16,
    "start_time": "2024-06-06T18:02:50.843Z"
   },
   {
    "duration": 7,
    "start_time": "2024-06-06T18:02:50.861Z"
   },
   {
    "duration": 62,
    "start_time": "2024-06-06T18:02:50.871Z"
   },
   {
    "duration": 9,
    "start_time": "2024-06-06T18:02:50.937Z"
   },
   {
    "duration": 46382,
    "start_time": "2024-06-06T18:02:50.949Z"
   },
   {
    "duration": 17,
    "start_time": "2024-06-06T18:03:37.334Z"
   },
   {
    "duration": 9,
    "start_time": "2024-06-06T18:03:37.354Z"
   },
   {
    "duration": 112811,
    "start_time": "2024-06-06T18:03:37.365Z"
   },
   {
    "duration": 20,
    "start_time": "2024-06-06T18:05:30.179Z"
   },
   {
    "duration": 28,
    "start_time": "2024-06-06T18:05:30.203Z"
   },
   {
    "duration": 896,
    "start_time": "2024-06-06T18:05:30.234Z"
   },
   {
    "duration": 197,
    "start_time": "2024-06-06T18:05:31.136Z"
   },
   {
    "duration": 8,
    "start_time": "2024-06-06T18:05:31.337Z"
   },
   {
    "duration": 7,
    "start_time": "2024-06-06T18:05:31.349Z"
   },
   {
    "duration": 5,
    "start_time": "2024-06-06T18:15:46.595Z"
   },
   {
    "duration": 36,
    "start_time": "2024-06-06T18:15:46.603Z"
   },
   {
    "duration": 10,
    "start_time": "2024-06-06T18:15:46.642Z"
   },
   {
    "duration": 9,
    "start_time": "2024-06-06T18:15:46.654Z"
   },
   {
    "duration": 9,
    "start_time": "2024-06-06T18:15:46.668Z"
   },
   {
    "duration": 12,
    "start_time": "2024-06-06T18:15:46.680Z"
   },
   {
    "duration": 803,
    "start_time": "2024-06-06T18:15:46.731Z"
   },
   {
    "duration": 510,
    "start_time": "2024-06-06T18:15:47.537Z"
   },
   {
    "duration": 543,
    "start_time": "2024-06-06T18:15:48.050Z"
   },
   {
    "duration": 403,
    "start_time": "2024-06-06T18:15:48.596Z"
   },
   {
    "duration": 29,
    "start_time": "2024-06-06T18:15:49.003Z"
   },
   {
    "duration": 25,
    "start_time": "2024-06-06T18:15:49.035Z"
   },
   {
    "duration": 10,
    "start_time": "2024-06-06T18:15:49.063Z"
   },
   {
    "duration": 7,
    "start_time": "2024-06-06T18:15:49.079Z"
   },
   {
    "duration": 46,
    "start_time": "2024-06-06T18:15:49.089Z"
   },
   {
    "duration": 14,
    "start_time": "2024-06-06T18:15:49.138Z"
   },
   {
    "duration": 5,
    "start_time": "2024-06-06T18:15:49.155Z"
   },
   {
    "duration": 75,
    "start_time": "2024-06-06T18:15:49.163Z"
   },
   {
    "duration": 45025,
    "start_time": "2024-06-06T18:15:49.242Z"
   },
   {
    "duration": 14,
    "start_time": "2024-06-06T18:16:34.270Z"
   },
   {
    "duration": 8,
    "start_time": "2024-06-06T18:16:34.332Z"
   },
   {
    "duration": 85,
    "start_time": "2024-06-06T18:16:34.346Z"
   },
   {
    "duration": 111488,
    "start_time": "2024-06-06T18:16:34.434Z"
   },
   {
    "duration": 21,
    "start_time": "2024-06-06T18:18:25.931Z"
   },
   {
    "duration": 7,
    "start_time": "2024-06-06T18:18:25.955Z"
   },
   {
    "duration": 787,
    "start_time": "2024-06-06T18:18:25.965Z"
   },
   {
    "duration": 187,
    "start_time": "2024-06-06T18:18:26.756Z"
   },
   {
    "duration": 6,
    "start_time": "2024-06-06T18:18:26.947Z"
   },
   {
    "duration": 74,
    "start_time": "2024-06-06T18:18:26.958Z"
   },
   {
    "duration": 12,
    "start_time": "2024-06-06T18:18:27.036Z"
   },
   {
    "duration": 6,
    "start_time": "2024-06-06T18:21:01.716Z"
   },
   {
    "duration": 8,
    "start_time": "2024-06-06T18:27:26.496Z"
   },
   {
    "duration": 6,
    "start_time": "2024-06-06T18:27:33.928Z"
   },
   {
    "duration": 34,
    "start_time": "2024-06-06T18:27:33.938Z"
   },
   {
    "duration": 10,
    "start_time": "2024-06-06T18:27:33.975Z"
   },
   {
    "duration": 10,
    "start_time": "2024-06-06T18:28:31.519Z"
   },
   {
    "duration": 15,
    "start_time": "2024-06-06T18:28:45.889Z"
   },
   {
    "duration": 10,
    "start_time": "2024-06-06T18:28:53.222Z"
   },
   {
    "duration": 7,
    "start_time": "2024-06-06T18:29:05.477Z"
   },
   {
    "duration": 36,
    "start_time": "2024-06-06T18:29:05.488Z"
   },
   {
    "duration": 11,
    "start_time": "2024-06-06T18:29:05.527Z"
   },
   {
    "duration": 11,
    "start_time": "2024-06-06T18:29:05.542Z"
   },
   {
    "duration": 10,
    "start_time": "2024-06-06T18:29:05.558Z"
   },
   {
    "duration": 9,
    "start_time": "2024-06-06T18:29:05.571Z"
   },
   {
    "duration": 49,
    "start_time": "2024-06-06T18:29:05.583Z"
   },
   {
    "duration": 15,
    "start_time": "2024-06-06T18:30:50.517Z"
   },
   {
    "duration": 16,
    "start_time": "2024-06-06T18:33:03.409Z"
   },
   {
    "duration": 333,
    "start_time": "2024-06-06T18:33:15.515Z"
   },
   {
    "duration": 375,
    "start_time": "2024-06-06T18:36:49.350Z"
   },
   {
    "duration": 467,
    "start_time": "2024-06-06T18:37:05.873Z"
   },
   {
    "duration": 513,
    "start_time": "2024-06-06T18:40:38.583Z"
   },
   {
    "duration": 828,
    "start_time": "2024-06-06T18:40:39.483Z"
   },
   {
    "duration": 1177,
    "start_time": "2024-06-06T18:41:06.357Z"
   },
   {
    "duration": 780,
    "start_time": "2024-06-06T18:41:07.971Z"
   },
   {
    "duration": 167,
    "start_time": "2024-06-06T18:41:26.330Z"
   },
   {
    "duration": 6,
    "start_time": "2024-06-06T18:41:32.464Z"
   },
   {
    "duration": 39,
    "start_time": "2024-06-06T18:41:32.473Z"
   },
   {
    "duration": 10,
    "start_time": "2024-06-06T18:41:32.517Z"
   },
   {
    "duration": 10,
    "start_time": "2024-06-06T18:41:32.530Z"
   },
   {
    "duration": 10,
    "start_time": "2024-06-06T18:41:32.547Z"
   },
   {
    "duration": 8,
    "start_time": "2024-06-06T18:41:32.561Z"
   },
   {
    "duration": 16,
    "start_time": "2024-06-06T18:41:32.572Z"
   },
   {
    "duration": 385,
    "start_time": "2024-06-06T18:41:32.631Z"
   },
   {
    "duration": 410,
    "start_time": "2024-06-06T18:41:33.020Z"
   },
   {
    "duration": 852,
    "start_time": "2024-06-06T18:41:42.684Z"
   },
   {
    "duration": 56,
    "start_time": "2024-06-06T18:41:45.832Z"
   },
   {
    "duration": 11,
    "start_time": "2024-06-06T18:41:59.994Z"
   },
   {
    "duration": 888,
    "start_time": "2024-06-06T18:42:01.064Z"
   },
   {
    "duration": 462,
    "start_time": "2024-06-06T18:43:51.387Z"
   },
   {
    "duration": 794,
    "start_time": "2024-06-06T18:43:52.272Z"
   },
   {
    "duration": 74,
    "start_time": "2024-06-06T18:44:00.916Z"
   },
   {
    "duration": 70,
    "start_time": "2024-06-06T18:44:07.244Z"
   },
   {
    "duration": 8,
    "start_time": "2024-06-06T18:45:29.993Z"
   },
   {
    "duration": 31,
    "start_time": "2024-06-06T18:45:30.006Z"
   },
   {
    "duration": 9,
    "start_time": "2024-06-06T18:45:30.041Z"
   },
   {
    "duration": 10,
    "start_time": "2024-06-06T18:45:30.054Z"
   },
   {
    "duration": 13,
    "start_time": "2024-06-06T18:45:30.066Z"
   },
   {
    "duration": 10,
    "start_time": "2024-06-06T18:45:30.083Z"
   },
   {
    "duration": 20,
    "start_time": "2024-06-06T18:45:30.134Z"
   },
   {
    "duration": 365,
    "start_time": "2024-06-06T18:45:30.157Z"
   },
   {
    "duration": 395,
    "start_time": "2024-06-06T18:45:30.533Z"
   },
   {
    "duration": 288,
    "start_time": "2024-06-06T18:45:34.802Z"
   },
   {
    "duration": 6,
    "start_time": "2024-06-06T18:45:52.070Z"
   },
   {
    "duration": 39,
    "start_time": "2024-06-06T18:45:52.079Z"
   },
   {
    "duration": 14,
    "start_time": "2024-06-06T18:45:52.121Z"
   },
   {
    "duration": 13,
    "start_time": "2024-06-06T18:45:52.140Z"
   },
   {
    "duration": 9,
    "start_time": "2024-06-06T18:45:52.158Z"
   },
   {
    "duration": 9,
    "start_time": "2024-06-06T18:45:52.171Z"
   },
   {
    "duration": 59,
    "start_time": "2024-06-06T18:45:52.183Z"
   },
   {
    "duration": 328,
    "start_time": "2024-06-06T18:46:03.880Z"
   },
   {
    "duration": 945,
    "start_time": "2024-06-06T18:46:09.818Z"
   },
   {
    "duration": 13,
    "start_time": "2024-06-06T18:46:29.727Z"
   },
   {
    "duration": 802,
    "start_time": "2024-06-06T18:46:34.967Z"
   },
   {
    "duration": 361,
    "start_time": "2024-06-06T18:49:48.331Z"
   },
   {
    "duration": 715,
    "start_time": "2024-06-06T18:50:18.313Z"
   },
   {
    "duration": 6,
    "start_time": "2024-06-06T18:50:24.664Z"
   },
   {
    "duration": 49,
    "start_time": "2024-06-06T18:50:24.674Z"
   },
   {
    "duration": 18,
    "start_time": "2024-06-06T18:50:24.730Z"
   },
   {
    "duration": 14,
    "start_time": "2024-06-06T18:50:24.754Z"
   },
   {
    "duration": 14,
    "start_time": "2024-06-06T18:50:24.778Z"
   },
   {
    "duration": 15,
    "start_time": "2024-06-06T18:50:24.798Z"
   },
   {
    "duration": 20,
    "start_time": "2024-06-06T18:50:24.819Z"
   },
   {
    "duration": 415,
    "start_time": "2024-06-06T18:50:24.845Z"
   },
   {
    "duration": 1369,
    "start_time": "2024-06-06T18:50:25.264Z"
   },
   {
    "duration": 1417,
    "start_time": "2024-06-06T18:50:33.653Z"
   },
   {
    "duration": 692,
    "start_time": "2024-06-06T18:50:36.304Z"
   },
   {
    "duration": 400,
    "start_time": "2024-06-06T18:50:52.108Z"
   },
   {
    "duration": 381,
    "start_time": "2024-06-06T18:51:18.768Z"
   },
   {
    "duration": 167,
    "start_time": "2024-06-06T18:51:23.203Z"
   },
   {
    "duration": 12,
    "start_time": "2024-06-06T18:52:31.709Z"
   },
   {
    "duration": 168,
    "start_time": "2024-06-06T18:52:32.595Z"
   },
   {
    "duration": 5,
    "start_time": "2024-06-06T18:52:51.274Z"
   },
   {
    "duration": 13,
    "start_time": "2024-06-06T18:52:52.056Z"
   },
   {
    "duration": 1031,
    "start_time": "2024-06-06T18:52:54.204Z"
   },
   {
    "duration": 23,
    "start_time": "2024-06-06T18:53:46.466Z"
   },
   {
    "duration": 24,
    "start_time": "2024-06-06T18:53:47.503Z"
   },
   {
    "duration": 11,
    "start_time": "2024-06-06T18:53:48.491Z"
   },
   {
    "duration": 5,
    "start_time": "2024-06-06T18:53:50.250Z"
   },
   {
    "duration": 7,
    "start_time": "2024-06-06T18:53:51.477Z"
   },
   {
    "duration": 22,
    "start_time": "2024-06-06T18:53:53.339Z"
   },
   {
    "duration": 5,
    "start_time": "2024-06-06T18:53:54.451Z"
   },
   {
    "duration": 5,
    "start_time": "2024-06-06T18:53:55.536Z"
   },
   {
    "duration": 308,
    "start_time": "2024-06-06T20:07:25.718Z"
   },
   {
    "duration": 5172,
    "start_time": "2024-06-06T20:07:41.500Z"
   },
   {
    "duration": 50,
    "start_time": "2024-06-06T20:07:46.676Z"
   },
   {
    "duration": 14,
    "start_time": "2024-06-06T20:07:46.729Z"
   },
   {
    "duration": 12,
    "start_time": "2024-06-06T20:07:46.747Z"
   },
   {
    "duration": 11,
    "start_time": "2024-06-06T20:07:46.765Z"
   },
   {
    "duration": 36,
    "start_time": "2024-06-06T20:07:46.780Z"
   },
   {
    "duration": 16,
    "start_time": "2024-06-06T20:07:46.820Z"
   },
   {
    "duration": 5,
    "start_time": "2024-06-06T20:07:46.839Z"
   },
   {
    "duration": 6,
    "start_time": "2024-06-06T20:37:09.132Z"
   },
   {
    "duration": 33,
    "start_time": "2024-06-06T20:37:09.143Z"
   },
   {
    "duration": 33,
    "start_time": "2024-06-06T20:37:09.179Z"
   },
   {
    "duration": 10,
    "start_time": "2024-06-06T20:37:09.216Z"
   },
   {
    "duration": 10,
    "start_time": "2024-06-06T20:37:09.229Z"
   },
   {
    "duration": 9,
    "start_time": "2024-06-06T20:37:09.242Z"
   },
   {
    "duration": 61,
    "start_time": "2024-06-06T20:37:09.254Z"
   },
   {
    "duration": 6,
    "start_time": "2024-06-06T20:37:09.319Z"
   },
   {
    "duration": 398,
    "start_time": "2024-06-06T20:37:09.329Z"
   },
   {
    "duration": 699,
    "start_time": "2024-06-06T20:37:09.735Z"
   },
   {
    "duration": 579,
    "start_time": "2024-06-06T20:37:10.438Z"
   },
   {
    "duration": 6,
    "start_time": "2024-06-06T20:37:11.020Z"
   },
   {
    "duration": 13,
    "start_time": "2024-06-06T20:37:11.029Z"
   },
   {
    "duration": 817,
    "start_time": "2024-06-06T20:37:11.044Z"
   },
   {
    "duration": 22,
    "start_time": "2024-06-06T20:37:11.864Z"
   },
   {
    "duration": 44,
    "start_time": "2024-06-06T20:37:11.888Z"
   },
   {
    "duration": 10,
    "start_time": "2024-06-06T20:37:11.935Z"
   },
   {
    "duration": 5,
    "start_time": "2024-06-06T20:37:11.948Z"
   },
   {
    "duration": 8,
    "start_time": "2024-06-06T20:37:11.955Z"
   },
   {
    "duration": 146,
    "start_time": "2024-06-06T20:37:11.967Z"
   },
   {
    "duration": 5,
    "start_time": "2024-06-06T20:37:12.116Z"
   },
   {
    "duration": 9,
    "start_time": "2024-06-06T20:37:12.125Z"
   },
   {
    "duration": 45221,
    "start_time": "2024-06-06T20:37:12.137Z"
   },
   {
    "duration": 13,
    "start_time": "2024-06-06T20:37:57.362Z"
   },
   {
    "duration": 5,
    "start_time": "2024-06-06T20:37:57.413Z"
   },
   {
    "duration": 6,
    "start_time": "2024-06-06T20:37:57.421Z"
   },
   {
    "duration": 111494,
    "start_time": "2024-06-06T20:37:57.430Z"
   },
   {
    "duration": 21,
    "start_time": "2024-06-06T20:39:48.931Z"
   },
   {
    "duration": 7,
    "start_time": "2024-06-06T20:39:48.957Z"
   },
   {
    "duration": 948,
    "start_time": "2024-06-06T20:39:48.968Z"
   },
   {
    "duration": 118,
    "start_time": "2024-06-06T20:39:49.919Z"
   },
   {
    "duration": 7,
    "start_time": "2024-06-06T20:39:50.114Z"
   },
   {
    "duration": 10,
    "start_time": "2024-06-06T20:39:50.124Z"
   },
   {
    "duration": 307,
    "start_time": "2024-06-06T20:39:50.137Z"
   },
   {
    "duration": 7,
    "start_time": "2024-06-06T20:40:35.663Z"
   },
   {
    "duration": 5,
    "start_time": "2024-06-06T20:40:42.839Z"
   },
   {
    "duration": 5868,
    "start_time": "2024-06-07T05:33:29.838Z"
   },
   {
    "duration": 53,
    "start_time": "2024-06-07T05:33:37.282Z"
   },
   {
    "duration": 14,
    "start_time": "2024-06-07T05:33:42.103Z"
   },
   {
    "duration": 483,
    "start_time": "2024-06-07T05:33:55.978Z"
   },
   {
    "duration": 8,
    "start_time": "2024-06-07T05:34:03.058Z"
   },
   {
    "duration": 19,
    "start_time": "2024-06-07T05:34:08.172Z"
   },
   {
    "duration": 32,
    "start_time": "2024-06-07T05:34:11.945Z"
   },
   {
    "duration": 18,
    "start_time": "2024-06-07T05:34:20.976Z"
   }
  ],
  "kernelspec": {
   "display_name": "Python 3 (ipykernel)",
   "language": "python",
   "name": "python3"
  },
  "language_info": {
   "codemirror_mode": {
    "name": "ipython",
    "version": 3
   },
   "file_extension": ".py",
   "mimetype": "text/x-python",
   "name": "python",
   "nbconvert_exporter": "python",
   "pygments_lexer": "ipython3",
   "version": "3.12.1"
  },
  "toc": {
   "base_numbering": 1,
   "nav_menu": {},
   "number_sections": true,
   "sideBar": true,
   "skip_h1_title": true,
   "title_cell": "Table of Contents",
   "title_sidebar": "Contents",
   "toc_cell": false,
   "toc_position": {},
   "toc_section_display": true,
   "toc_window_display": false
  }
 },
 "nbformat": 4,
 "nbformat_minor": 4
}
